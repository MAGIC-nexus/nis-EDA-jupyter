{
 "cells": [
  {
   "cell_type": "code",
   "execution_count": 73,
   "metadata": {},
   "outputs": [],
   "source": [
    "# importing libraries\n",
    "from __future__ import print_function\n",
    "from ipywidgets import interact, interactive, fixed, interact_manual\n",
    "from IPython.core.display import display, HTML\n",
    "\n",
    "import numpy as np\n",
    "import pandas as pd\n",
    "import matplotlib.pyplot as plt\n",
    "from nexinfosys import NISClient, display_visjs_jupyterlab\n",
    "import plotly.express as px\n",
    "import folium\n",
    "import plotly.graph_objects as go\n",
    "import seaborn as sns\n",
    "import ipywidgets as widgets\n",
    "from ipywidgets import interact, interactive, fixed, interact_manual\n",
    "from nexinfosys import NISClient, display_visjs_jupyterlab\n",
    "import io\n",
    "import networkx as nx\n",
    "import csv\n",
    "import qgrid"
   ]
  },
  {
   "cell_type": "code",
   "execution_count": 74,
   "metadata": {},
   "outputs": [],
   "source": [
    "def write_csv(output_csv,name): #eg flow_graph_solution.csv\n",
    "    with open(name,'wb') as file:\n",
    "        for line in output_csv:\n",
    "            file.write(line)\n",
    "    return name"
   ]
  },
  {
   "cell_type": "code",
   "execution_count": 75,
   "metadata": {},
   "outputs": [],
   "source": [
    "# Input Nis Format File\n",
    "fname =  'howTo Clone CloneScale.xlsx'\n",
    "#fname = '/home/paula/Documentos/JN/DB_Biofuel_Europa_Diagnostic ModeV6_formatNIS_2016Escenarios.xlsx'"
   ]
  },
  {
   "cell_type": "code",
   "execution_count": 76,
   "metadata": {},
   "outputs": [
    {
     "name": "stdout",
     "output_type": "stream",
     "text": [
      "EDA-Notebook.ipynb\r\n",
      "flow_graph_solution2.csv\r\n",
      "flow_graph_solution_clean.csv\r\n",
      "flow_graph_solution.csv\r\n",
      "howTo Clone CloneScale.xlsx\r\n",
      "nexinfosys_python-notebook-script_Widgets_Basic_explotations.ipynb\r\n",
      "README.md\r\n"
     ]
    }
   ],
   "source": [
    "!ls"
   ]
  },
  {
   "cell_type": "markdown",
   "metadata": {},
   "source": [
    "### Connect to Nis Client"
   ]
  },
  {
   "cell_type": "code",
   "execution_count": 77,
   "metadata": {
    "scrolled": true
   },
   "outputs": [
    {
     "data": {
      "text/plain": [
       "True"
      ]
     },
     "execution_count": 77,
     "metadata": {},
     "output_type": "execute_result"
    }
   ],
   "source": [
    "#c = NISClient(\"https://one.nis.magic-nexus.eu/nis_api\")\n",
    "#To local:\n",
    "#c = NISClient(\"http://localhost:5000/nis_api\")\n",
    "c = NISClient(\"http://172.17.0.1:5000/nis_api\")\n",
    "# Login, open session, load a workbook (which is in Nextcloud), submit (execute!)\n",
    "c.login(\"test_user\")\n",
    "#print(\"Logged in\")"
   ]
  },
  {
   "cell_type": "code",
   "execution_count": 78,
   "metadata": {},
   "outputs": [
    {
     "data": {
      "text/plain": [
       "True"
      ]
     },
     "execution_count": 78,
     "metadata": {},
     "output_type": "execute_result"
    }
   ],
   "source": [
    "c.open_session()\n",
    "#print(\"Session opened\")"
   ]
  },
  {
   "cell_type": "code",
   "execution_count": 79,
   "metadata": {},
   "outputs": [
    {
     "name": "stdout",
     "output_type": "stream",
     "text": [
      "N worksheets: 7\n"
     ]
    }
   ],
   "source": [
    "n = c.load_workbook(fname)\n",
    "print(\"N worksheets: \"+str(n))"
   ]
  },
  {
   "cell_type": "code",
   "execution_count": 80,
   "metadata": {},
   "outputs": [],
   "source": [
    "r = c.submit()"
   ]
  },
  {
   "cell_type": "code",
   "execution_count": 81,
   "metadata": {},
   "outputs": [],
   "source": [
    "any_error = False\n",
    "if len(r) > 0:\n",
    "    for i in r:\n",
    "        if i[\"type\"] == 3:\n",
    "            any_error = True\n",
    "            print(str(i))\n",
    "            "
   ]
  },
  {
   "cell_type": "code",
   "execution_count": 82,
   "metadata": {},
   "outputs": [],
   "source": [
    "if not any_error:\n",
    "    # Obtain available datasets\n",
    "    r = c.query_available_datasets()\n",
    "    if len(r) > 0:\n",
    "        results = {}\n",
    "        for ds in r:\n",
    "            results[ds[\"name\"]] = {d[\"format\"].lower(): d[\"url\"] for d in ds[\"formats\"]}\n"
   ]
  },
  {
   "cell_type": "code",
   "execution_count": 83,
   "metadata": {},
   "outputs": [],
   "source": [
    "#See Warnings\n",
    "#pd.DataFrame(r)"
   ]
  },
  {
   "cell_type": "markdown",
   "metadata": {},
   "source": [
    "### Available Resuts"
   ]
  },
  {
   "cell_type": "code",
   "execution_count": 84,
   "metadata": {
    "scrolled": true
   },
   "outputs": [
    {
     "data": {
      "text/html": [
       "<div>\n",
       "<style scoped>\n",
       "    .dataframe tbody tr th:only-of-type {\n",
       "        vertical-align: middle;\n",
       "    }\n",
       "\n",
       "    .dataframe tbody tr th {\n",
       "        vertical-align: top;\n",
       "    }\n",
       "\n",
       "    .dataframe thead th {\n",
       "        text-align: right;\n",
       "    }\n",
       "</style>\n",
       "<table border=\"1\" class=\"dataframe\">\n",
       "  <thead>\n",
       "    <tr style=\"text-align: right;\">\n",
       "      <th></th>\n",
       "      <th>description</th>\n",
       "      <th>formats</th>\n",
       "      <th>name</th>\n",
       "      <th>type</th>\n",
       "    </tr>\n",
       "  </thead>\n",
       "  <tbody>\n",
       "    <tr>\n",
       "      <th>0</th>\n",
       "      <td>Parameter values per Scenario [4 rows, 12 cell...</td>\n",
       "      <td>[{'format': 'CSV', 'url': '/nis_api/isession/r...</td>\n",
       "      <td>params</td>\n",
       "      <td>dataset</td>\n",
       "    </tr>\n",
       "    <tr>\n",
       "      <th>1</th>\n",
       "      <td>Flow Graph Solver - Interfaces [108 rows, 1944...</td>\n",
       "      <td>[{'format': 'CSV', 'url': '/nis_api/isession/r...</td>\n",
       "      <td>flow_graph_solution</td>\n",
       "      <td>dataset</td>\n",
       "    </tr>\n",
       "    <tr>\n",
       "      <th>2</th>\n",
       "      <td>Flow Graph Solver Edges - Interfaces [42 rows,...</td>\n",
       "      <td>[{'format': 'CSV', 'url': '/nis_api/isession/r...</td>\n",
       "      <td>flow_graph_solution_edges</td>\n",
       "      <td>dataset</td>\n",
       "    </tr>\n",
       "    <tr>\n",
       "      <th>3</th>\n",
       "      <td>Graph of Interfaces, Quantities; Scales and Ex...</td>\n",
       "      <td>[{'format': 'VisJS', 'url': '/nis_api/isession...</td>\n",
       "      <td>interfaces_graph</td>\n",
       "      <td>graph</td>\n",
       "    </tr>\n",
       "    <tr>\n",
       "      <th>4</th>\n",
       "      <td>Processors and exchanges graph</td>\n",
       "      <td>[{'format': 'VisJS', 'url': '/nis_api/isession...</td>\n",
       "      <td>processors_graph</td>\n",
       "      <td>graph</td>\n",
       "    </tr>\n",
       "    <tr>\n",
       "      <th>5</th>\n",
       "      <td>Dictionary of Sankey Graph for every scenario ...</td>\n",
       "      <td>[{'format': 'JSON', 'url': '/nis_api/isession/...</td>\n",
       "      <td>Sankey_Graph</td>\n",
       "      <td>Graph</td>\n",
       "    </tr>\n",
       "    <tr>\n",
       "      <th>6</th>\n",
       "      <td>Processors</td>\n",
       "      <td>[{'format': 'GeoJSON', 'url': '/nis_api/isessi...</td>\n",
       "      <td>processors_geolayer</td>\n",
       "      <td>geolayer</td>\n",
       "    </tr>\n",
       "    <tr>\n",
       "      <th>7</th>\n",
       "      <td>Model</td>\n",
       "      <td>[{'format': 'JSON', 'url': '/nis_api/isession/...</td>\n",
       "      <td>Model</td>\n",
       "      <td>model</td>\n",
       "    </tr>\n",
       "    <tr>\n",
       "      <th>8</th>\n",
       "      <td>OWL ontology</td>\n",
       "      <td>[{'format': 'OWL', 'url': '/nis_api/isession/r...</td>\n",
       "      <td>Ontology</td>\n",
       "      <td>ontology</td>\n",
       "    </tr>\n",
       "    <tr>\n",
       "      <th>9</th>\n",
       "      <td>Python script</td>\n",
       "      <td>[{'format': 'Python', 'url': '/nis_api/isessio...</td>\n",
       "      <td>Python script</td>\n",
       "      <td>script</td>\n",
       "    </tr>\n",
       "    <tr>\n",
       "      <th>10</th>\n",
       "      <td>R script</td>\n",
       "      <td>[{'format': 'R', 'url': '/nis_api/isession/rse...</td>\n",
       "      <td>R script</td>\n",
       "      <td>script</td>\n",
       "    </tr>\n",
       "    <tr>\n",
       "      <th>11</th>\n",
       "      <td>Reference of all commands and their fields</td>\n",
       "      <td>[{'format': 'html', 'url': '/nis_api/isession/...</td>\n",
       "      <td>Commands reference</td>\n",
       "      <td>document</td>\n",
       "    </tr>\n",
       "  </tbody>\n",
       "</table>\n",
       "</div>"
      ],
      "text/plain": [
       "                                          description  \\\n",
       "0   Parameter values per Scenario [4 rows, 12 cell...   \n",
       "1   Flow Graph Solver - Interfaces [108 rows, 1944...   \n",
       "2   Flow Graph Solver Edges - Interfaces [42 rows,...   \n",
       "3   Graph of Interfaces, Quantities; Scales and Ex...   \n",
       "4                      Processors and exchanges graph   \n",
       "5   Dictionary of Sankey Graph for every scenario ...   \n",
       "6                                          Processors   \n",
       "7                                               Model   \n",
       "8                                        OWL ontology   \n",
       "9                                       Python script   \n",
       "10                                           R script   \n",
       "11         Reference of all commands and their fields   \n",
       "\n",
       "                                              formats  \\\n",
       "0   [{'format': 'CSV', 'url': '/nis_api/isession/r...   \n",
       "1   [{'format': 'CSV', 'url': '/nis_api/isession/r...   \n",
       "2   [{'format': 'CSV', 'url': '/nis_api/isession/r...   \n",
       "3   [{'format': 'VisJS', 'url': '/nis_api/isession...   \n",
       "4   [{'format': 'VisJS', 'url': '/nis_api/isession...   \n",
       "5   [{'format': 'JSON', 'url': '/nis_api/isession/...   \n",
       "6   [{'format': 'GeoJSON', 'url': '/nis_api/isessi...   \n",
       "7   [{'format': 'JSON', 'url': '/nis_api/isession/...   \n",
       "8   [{'format': 'OWL', 'url': '/nis_api/isession/r...   \n",
       "9   [{'format': 'Python', 'url': '/nis_api/isessio...   \n",
       "10  [{'format': 'R', 'url': '/nis_api/isession/rse...   \n",
       "11  [{'format': 'html', 'url': '/nis_api/isession/...   \n",
       "\n",
       "                         name      type  \n",
       "0                      params   dataset  \n",
       "1         flow_graph_solution   dataset  \n",
       "2   flow_graph_solution_edges   dataset  \n",
       "3            interfaces_graph     graph  \n",
       "4            processors_graph     graph  \n",
       "5                Sankey_Graph     Graph  \n",
       "6         processors_geolayer  geolayer  \n",
       "7                       Model     model  \n",
       "8                    Ontology  ontology  \n",
       "9               Python script    script  \n",
       "10                   R script    script  \n",
       "11         Commands reference  document  "
      ]
     },
     "execution_count": 84,
     "metadata": {},
     "output_type": "execute_result"
    }
   ],
   "source": [
    "pd.DataFrame(c.query_available_datasets())"
   ]
  },
  {
   "cell_type": "code",
   "execution_count": 85,
   "metadata": {},
   "outputs": [],
   "source": [
    "#TODO widget para elegir output y descagarlo"
   ]
  },
  {
   "cell_type": "markdown",
   "metadata": {},
   "source": [
    "## Processors Graph"
   ]
  },
  {
   "cell_type": "code",
   "execution_count": 86,
   "metadata": {},
   "outputs": [
    {
     "data": {
      "text/html": [
       "\n",
       "<script type=\"text/javascript\" src=\"https://cdnjs.cloudflare.com/ajax/libs/vis/4.21.0/vis.min.js\"></script>\n",
       "<link href=\"https://cdnjs.cloudflare.com/ajax/libs/vis/4.21.0/vis.min.css\" rel=\"stylesheet\" type=\"text/css\" />\n",
       "\n",
       "  <style type=\"text/css\">\n",
       "    #networkB7IHWEJVBW {\n",
       "      width: 100%;\n",
       "      height: 1200px;\n",
       "      border: 1px solid lightgray;\n",
       "    }\n",
       "  </style>\n",
       "<div id=\"networkB7IHWEJVBW\"></div>    \n",
       "    "
      ],
      "text/plain": [
       "<IPython.core.display.HTML object>"
      ]
     },
     "metadata": {},
     "output_type": "display_data"
    },
    {
     "data": {
      "application/javascript": [
       "\n",
       "function loadScript(ide, url, callback)\n",
       "{\n",
       "    var script = document.getElementById(ide);\n",
       "    if (!script)\n",
       "    {\n",
       "        // Adding the script tag to the head as suggested before\n",
       "        var script = document.createElement('script');\n",
       "        script.type = 'text/javascript';\n",
       "        script.src = url;\n",
       "        script.id = ide;\n",
       "\n",
       "        // Then bind the event to the callback function.\n",
       "        // There are several events for cross browser compatibility.\n",
       "        script.onreadystatechange = callback;\n",
       "        script.onload = callback;\n",
       "        \n",
       "        // Fire the loading\n",
       "        var head = document.head;\n",
       "        head.appendChild(script);\n",
       "    } else {\n",
       "        callback();\n",
       "    }\n",
       "}\n",
       "\n",
       "function loadNetwork() {    \n",
       "  // create a network\n",
       "  var container = document.getElementById('networkB7IHWEJVBW');\n",
       "  var data = {\n",
       "    \"edges\": [\n",
       "        {\n",
       "            \"arrows\": \"to\",\n",
       "            \"etype\": \"part-of\",\n",
       "            \"font\": {\n",
       "                \"size\": 7\n",
       "            },\n",
       "            \"from\": \"0\",\n",
       "            \"graphics\": {\n",
       "                \"fill\": \"#00ffff\",\n",
       "                \"targetArrow\": \"standard\",\n",
       "                \"width\": 3\n",
       "            },\n",
       "            \"to\": \"16\"\n",
       "        },\n",
       "        {\n",
       "            \"arrows\": \"to\",\n",
       "            \"etype\": \"part-of\",\n",
       "            \"font\": {\n",
       "                \"size\": 7\n",
       "            },\n",
       "            \"from\": \"2\",\n",
       "            \"graphics\": {\n",
       "                \"fill\": \"#00ffff\",\n",
       "                \"targetArrow\": \"standard\",\n",
       "                \"width\": 3\n",
       "            },\n",
       "            \"to\": \"8\"\n",
       "        },\n",
       "        {\n",
       "            \"arrows\": \"to\",\n",
       "            \"etype\": \"part-of\",\n",
       "            \"font\": {\n",
       "                \"size\": 7\n",
       "            },\n",
       "            \"from\": \"3\",\n",
       "            \"graphics\": {\n",
       "                \"fill\": \"#00ffff\",\n",
       "                \"targetArrow\": \"standard\",\n",
       "                \"width\": 3\n",
       "            },\n",
       "            \"to\": \"8\"\n",
       "        },\n",
       "        {\n",
       "            \"arrows\": \"to\",\n",
       "            \"etype\": \"part-of\",\n",
       "            \"font\": {\n",
       "                \"size\": 7\n",
       "            },\n",
       "            \"from\": \"5\",\n",
       "            \"graphics\": {\n",
       "                \"fill\": \"#00ffff\",\n",
       "                \"targetArrow\": \"standard\",\n",
       "                \"width\": 3\n",
       "            },\n",
       "            \"to\": \"16\"\n",
       "        },\n",
       "        {\n",
       "            \"arrows\": \"to\",\n",
       "            \"etype\": \"part-of\",\n",
       "            \"font\": {\n",
       "                \"size\": 7\n",
       "            },\n",
       "            \"from\": \"7\",\n",
       "            \"graphics\": {\n",
       "                \"fill\": \"#00ffff\",\n",
       "                \"targetArrow\": \"standard\",\n",
       "                \"width\": 3\n",
       "            },\n",
       "            \"to\": \"12\"\n",
       "        },\n",
       "        {\n",
       "            \"arrows\": \"to\",\n",
       "            \"etype\": \"part-of\",\n",
       "            \"font\": {\n",
       "                \"size\": 7\n",
       "            },\n",
       "            \"from\": \"8\",\n",
       "            \"graphics\": {\n",
       "                \"fill\": \"#00ffff\",\n",
       "                \"targetArrow\": \"standard\",\n",
       "                \"width\": 3\n",
       "            },\n",
       "            \"to\": \"16\"\n",
       "        },\n",
       "        {\n",
       "            \"arrows\": \"to\",\n",
       "            \"dashes\": \"true\",\n",
       "            \"etype\": \"scale\",\n",
       "            \"font\": {\n",
       "                \"size\": 7\n",
       "            },\n",
       "            \"from\": \"8\",\n",
       "            \"graphics\": {\n",
       "                \"fill\": \"#00ffff\",\n",
       "                \"targetArrow\": \"standard\",\n",
       "                \"width\": 2\n",
       "            },\n",
       "            \"label\": \"wheat x 0.6 > wheat\",\n",
       "            \"to\": \"2\",\n",
       "            \"w\": \"0.6\"\n",
       "        },\n",
       "        {\n",
       "            \"arrows\": \"to\",\n",
       "            \"dashes\": \"true\",\n",
       "            \"etype\": \"scale\",\n",
       "            \"font\": {\n",
       "                \"size\": 7\n",
       "            },\n",
       "            \"from\": \"8\",\n",
       "            \"graphics\": {\n",
       "                \"fill\": \"#00ffff\",\n",
       "                \"targetArrow\": \"standard\",\n",
       "                \"width\": 2\n",
       "            },\n",
       "            \"label\": \"wheat x 0.4 > wheat\",\n",
       "            \"to\": \"3\",\n",
       "            \"w\": \"0.4\"\n",
       "        },\n",
       "        {\n",
       "            \"arrows\": \"to\",\n",
       "            \"etype\": \"part-of\",\n",
       "            \"font\": {\n",
       "                \"size\": 7\n",
       "            },\n",
       "            \"from\": \"10\",\n",
       "            \"graphics\": {\n",
       "                \"fill\": \"#00ffff\",\n",
       "                \"targetArrow\": \"standard\",\n",
       "                \"width\": 3\n",
       "            },\n",
       "            \"to\": \"12\"\n",
       "        },\n",
       "        {\n",
       "            \"arrows\": \"to\",\n",
       "            \"etype\": \"part-of\",\n",
       "            \"font\": {\n",
       "                \"size\": 7\n",
       "            },\n",
       "            \"from\": \"11\",\n",
       "            \"graphics\": {\n",
       "                \"fill\": \"#00ffff\",\n",
       "                \"targetArrow\": \"standard\",\n",
       "                \"width\": 3\n",
       "            },\n",
       "            \"to\": \"12\"\n",
       "        },\n",
       "        {\n",
       "            \"arrows\": \"to\",\n",
       "            \"dashes\": \"true\",\n",
       "            \"etype\": \"scale\",\n",
       "            \"font\": {\n",
       "                \"size\": 7\n",
       "            },\n",
       "            \"from\": \"11\",\n",
       "            \"graphics\": {\n",
       "                \"fill\": \"#00ffff\",\n",
       "                \"targetArrow\": \"standard\",\n",
       "                \"width\": 2\n",
       "            },\n",
       "            \"label\": \"wheat x 0.3 > wheat\",\n",
       "            \"to\": \"15\",\n",
       "            \"w\": \"0.3\"\n",
       "        },\n",
       "        {\n",
       "            \"arrows\": \"to\",\n",
       "            \"dashes\": \"true\",\n",
       "            \"etype\": \"scale\",\n",
       "            \"font\": {\n",
       "                \"size\": 7\n",
       "            },\n",
       "            \"from\": \"11\",\n",
       "            \"graphics\": {\n",
       "                \"fill\": \"#00ffff\",\n",
       "                \"targetArrow\": \"standard\",\n",
       "                \"width\": 2\n",
       "            },\n",
       "            \"label\": \"wheat x 0.7 > wheat\",\n",
       "            \"to\": \"14\",\n",
       "            \"w\": \"0.7\"\n",
       "        },\n",
       "        {\n",
       "            \"arrows\": \"to\",\n",
       "            \"etype\": \"part-of\",\n",
       "            \"font\": {\n",
       "                \"size\": 7\n",
       "            },\n",
       "            \"from\": \"14\",\n",
       "            \"graphics\": {\n",
       "                \"fill\": \"#00ffff\",\n",
       "                \"targetArrow\": \"standard\",\n",
       "                \"width\": 3\n",
       "            },\n",
       "            \"to\": \"11\"\n",
       "        },\n",
       "        {\n",
       "            \"arrows\": \"to\",\n",
       "            \"etype\": \"part-of\",\n",
       "            \"font\": {\n",
       "                \"size\": 7\n",
       "            },\n",
       "            \"from\": \"15\",\n",
       "            \"graphics\": {\n",
       "                \"fill\": \"#00ffff\",\n",
       "                \"targetArrow\": \"standard\",\n",
       "                \"width\": 3\n",
       "            },\n",
       "            \"to\": \"11\"\n",
       "        }\n",
       "    ],\n",
       "    \"nodes\": [\n",
       "        {\n",
       "            \"color\": \"#aa2211\",\n",
       "            \"id\": \"0\",\n",
       "            \"label\": \"Spain.Spainprocess2\",\n",
       "            \"shape\": \"hexagon\"\n",
       "        },\n",
       "        {\n",
       "            \"color\": \"#552211\",\n",
       "            \"id\": \"1\",\n",
       "            \"label\": \"open_air\",\n",
       "            \"shape\": \"hexagon\"\n",
       "        },\n",
       "        {\n",
       "            \"color\": \"#aa2211\",\n",
       "            \"id\": \"2\",\n",
       "            \"label\": \"Spain.crop_production.Spain_open_air\",\n",
       "            \"shape\": \"hexagon\"\n",
       "        },\n",
       "        {\n",
       "            \"color\": \"#aa2211\",\n",
       "            \"id\": \"3\",\n",
       "            \"label\": \"Spain.crop_production.Spain_green_house\",\n",
       "            \"shape\": \"hexagon\"\n",
       "        },\n",
       "        {\n",
       "            \"color\": \"#552211\",\n",
       "            \"id\": \"4\",\n",
       "            \"label\": \"process2\",\n",
       "            \"shape\": \"hexagon\"\n",
       "        },\n",
       "        {\n",
       "            \"color\": \"#aa2211\",\n",
       "            \"id\": \"5\",\n",
       "            \"label\": \"Spain.Spainprocess1\",\n",
       "            \"shape\": \"hexagon\"\n",
       "        },\n",
       "        {\n",
       "            \"color\": \"#552211\",\n",
       "            \"id\": \"6\",\n",
       "            \"label\": \"green_house\",\n",
       "            \"shape\": \"hexagon\"\n",
       "        },\n",
       "        {\n",
       "            \"color\": \"#aa2211\",\n",
       "            \"id\": \"7\",\n",
       "            \"label\": \"France.Franceprocess2\",\n",
       "            \"shape\": \"hexagon\"\n",
       "        },\n",
       "        {\n",
       "            \"color\": \"#aa2211\",\n",
       "            \"id\": \"8\",\n",
       "            \"label\": \"Spain.crop_production\",\n",
       "            \"shape\": \"hexagon\"\n",
       "        },\n",
       "        {\n",
       "            \"color\": \"#552211\",\n",
       "            \"id\": \"9\",\n",
       "            \"label\": \"process1\",\n",
       "            \"shape\": \"hexagon\"\n",
       "        },\n",
       "        {\n",
       "            \"color\": \"#aa2211\",\n",
       "            \"id\": \"10\",\n",
       "            \"label\": \"France.Franceprocess1\",\n",
       "            \"shape\": \"hexagon\"\n",
       "        },\n",
       "        {\n",
       "            \"color\": \"#aa2211\",\n",
       "            \"id\": \"11\",\n",
       "            \"label\": \"France.crop_production\",\n",
       "            \"shape\": \"hexagon\"\n",
       "        },\n",
       "        {\n",
       "            \"color\": \"#aa2211\",\n",
       "            \"id\": \"12\",\n",
       "            \"label\": \"France\",\n",
       "            \"shape\": \"hexagon\"\n",
       "        },\n",
       "        {\n",
       "            \"color\": \"#aa2211\",\n",
       "            \"id\": \"13\",\n",
       "            \"label\": \"SP_Local\",\n",
       "            \"shape\": \"hexagon\"\n",
       "        },\n",
       "        {\n",
       "            \"color\": \"#aa2211\",\n",
       "            \"id\": \"14\",\n",
       "            \"label\": \"France.crop_production.France_green_house\",\n",
       "            \"shape\": \"hexagon\"\n",
       "        },\n",
       "        {\n",
       "            \"color\": \"#aa2211\",\n",
       "            \"id\": \"15\",\n",
       "            \"label\": \"France.crop_production.France_open_air\",\n",
       "            \"shape\": \"hexagon\"\n",
       "        },\n",
       "        {\n",
       "            \"color\": \"#aa2211\",\n",
       "            \"id\": \"16\",\n",
       "            \"label\": \"Spain\",\n",
       "            \"shape\": \"hexagon\"\n",
       "        }\n",
       "    ]\n",
       "};\n",
       "  var options = {};\n",
       "  var network = new vis.Network(container, data, options);   \n",
       "}\n",
       "\n",
       "loadScript(\"visjs_script\", \"https://cdnjs.cloudflare.com/ajax/libs/vis/4.21.0/vis.min.js\", loadNetwork);\n"
      ],
      "text/plain": [
       "<IPython.core.display.Javascript object>"
      ]
     },
     "metadata": {},
     "output_type": "display_data"
    }
   ],
   "source": [
    "r = c.download_results([(results[\"processors_graph\"][\"visjs\"])])\n",
    "visjs_data2 = r[0].decode(\"utf-8\")\n",
    "un2 = None\n",
    "\n",
    "#unique_name = display_visjs_jupyterlab(visjs_data, 800, unique_name)\n",
    "un2 = display_visjs_jupyterlab(visjs_data2, 1200, un2)\n"
   ]
  },
  {
   "cell_type": "markdown",
   "metadata": {},
   "source": [
    "## Exploring Flow Graph Solution"
   ]
  },
  {
   "cell_type": "code",
   "execution_count": 87,
   "metadata": {},
   "outputs": [],
   "source": [
    "flow_graph_solution = c.download_results([(results[\"flow_graph_solution\"]['csv'])])\n",
    "write_csv(flow_graph_solution,\"flow_graph_solution.csv\")\n",
    "raw = pd.read_csv(\"flow_graph_solution.csv\")"
   ]
  },
  {
   "cell_type": "code",
   "execution_count": 89,
   "metadata": {},
   "outputs": [
    {
     "data": {
      "application/vnd.jupyter.widget-view+json": {
       "model_id": "2f2464eeae544504b6054f2646928662",
       "version_major": 2,
       "version_minor": 0
      },
      "text/plain": [
       "QgridWidget(grid_options={'fullWidthRows': True, 'syncColumnCellResize': True, 'forceFitColumns': True, 'defau…"
      ]
     },
     "metadata": {},
     "output_type": "display_data"
    }
   ],
   "source": [
    "qgrid_widget = qgrid.show_grid(raw,show_toolbar= True)\n",
    "qgrid_widget"
   ]
  },
  {
   "cell_type": "code",
   "execution_count": 90,
   "metadata": {
    "scrolled": true
   },
   "outputs": [
    {
     "data": {
      "text/plain": [
       "Index(['Scenario', 'Period', 'Scope', 'Conflict_Partof', 'Conflict_Itype',\n",
       "       'Processor', 'Interface', 'Orientation', 'RoegenType', 'Value',\n",
       "       'Computed', 'Observer', 'Expression', 'Unit', 'Level', 'System',\n",
       "       'Subsystem', 'Sphere'],\n",
       "      dtype='object')"
      ]
     },
     "execution_count": 90,
     "metadata": {},
     "output_type": "execute_result"
    }
   ],
   "source": [
    "raw.columns"
   ]
  },
  {
   "cell_type": "markdown",
   "metadata": {},
   "source": [
    "### Data Clonflict"
   ]
  },
  {
   "cell_type": "code",
   "execution_count": 124,
   "metadata": {},
   "outputs": [],
   "source": [
    "def ConflictStudy(df,conflictType): \n",
    "    if any(raw[conflictType] =='Dismissed'):\n",
    "        Taken = df[df[conflictType]=='Taken'].drop([conflictType], axis= 1)\n",
    "        Dismissed = df[df[conflictType]=='Dismissed'].drop([conflictType], axis= 1)\n",
    "        Taken = Taken.rename(columns={'Value':'Value_Taken'})\n",
    "        Dismissed = Dismissed.rename(columns={'Value':'Value_Dismissed'})\n",
    "        Conflict = pd.merge(Taken,Dismissed, how = 'outer')\n",
    "        Conflict['diff'] = Conflict['Value_Taken'] - Conflict['Value_Dismissed']\n",
    "        return Conflict['diff']\n",
    "    else:\n",
    "        print('No Conflicts found')"
   ]
  },
  {
   "cell_type": "markdown",
   "metadata": {},
   "source": [
    "#### Part Of Conflict"
   ]
  },
  {
   "cell_type": "code",
   "execution_count": 116,
   "metadata": {},
   "outputs": [
    {
     "name": "stdout",
     "output_type": "stream",
     "text": [
      "No Conflicts found\n"
     ]
    }
   ],
   "source": [
    "ConflictItype = ConflictStudy(raw,'Conflict_Itype')"
   ]
  },
  {
   "cell_type": "code",
   "execution_count": 125,
   "metadata": {},
   "outputs": [
    {
     "name": "stdout",
     "output_type": "stream",
     "text": [
      "  Scenario  Period     Scope Conflict_Itype               Processor Interface  \\\n",
      "0  default    2020  External             No  France.crop_production     wheat   \n",
      "1  default    2020  Internal             No   Spain.crop_production     wheat   \n",
      "2  default    2020     Total             No  France.crop_production     wheat   \n",
      "3  default    2020     Total             No   Spain.crop_production     wheat   \n",
      "4  default    2020  External             No  France.crop_production     wheat   \n",
      "5  default    2020  Internal             No   Spain.crop_production     wheat   \n",
      "6  default    2020     Total             No  France.crop_production     wheat   \n",
      "7  default    2020     Total             No   Spain.crop_production     wheat   \n",
      "\n",
      "  Orientation RoegenType  Value_Taken Computed  Observer  \\\n",
      "0      Output       Flow        100.0       No       NaN   \n",
      "1      Output       Flow        100.0       No       NaN   \n",
      "2      Output       Flow        100.0       No       NaN   \n",
      "3      Output       Flow        100.0       No       NaN   \n",
      "4      Output       Flow          NaN      Yes       NaN   \n",
      "5      Output       Flow          NaN      Yes       NaN   \n",
      "6      Output       Flow          NaN      Yes       NaN   \n",
      "7      Output       Flow          NaN      Yes       NaN   \n",
      "\n",
      "                                          Expression    Unit  Level System  \\\n",
      "0                                                100  tonnes    NaN     SP   \n",
      "1                                                100  tonnes    NaN     SP   \n",
      "2                                                100  tonnes    NaN     SP   \n",
      "3                                                100  tonnes    NaN     SP   \n",
      "4  (France.crop_production.France_green_house:whe...  tonnes    NaN     SP   \n",
      "5  (Spain.crop_production.Spain_green_house:wheat...  tonnes    NaN     SP   \n",
      "6  (France.crop_production.France_green_house:whe...  tonnes    NaN     SP   \n",
      "7  (Spain.crop_production.Spain_green_house:wheat...  tonnes    NaN     SP   \n",
      "\n",
      "  Subsystem        Sphere  Value_Dismissed  \n",
      "0  External  Technosphere              NaN  \n",
      "1     Local  Technosphere              NaN  \n",
      "2  External  Technosphere              NaN  \n",
      "3     Local  Technosphere              NaN  \n",
      "4  External  Technosphere            100.0  \n",
      "5     Local  Technosphere            100.0  \n",
      "6  External  Technosphere            100.0  \n",
      "7     Local  Technosphere            100.0  \n"
     ]
    },
    {
     "data": {
      "text/plain": [
       "0   NaN\n",
       "1   NaN\n",
       "2   NaN\n",
       "3   NaN\n",
       "4   NaN\n",
       "5   NaN\n",
       "6   NaN\n",
       "7   NaN\n",
       "Name: diff, dtype: float64"
      ]
     },
     "execution_count": 125,
     "metadata": {},
     "output_type": "execute_result"
    }
   ],
   "source": [
    "ConflictStudy(raw,'Conflict_Partof')"
   ]
  },
  {
   "cell_type": "markdown",
   "metadata": {},
   "source": [
    "### Flow graph solution Study"
   ]
  },
  {
   "cell_type": "markdown",
   "metadata": {},
   "source": [
    "#### Absolute Values Mode"
   ]
  },
  {
   "cell_type": "code",
   "execution_count": 59,
   "metadata": {},
   "outputs": [],
   "source": [
    "raw = raw[(raw['Conflict_Partof'] != 'Dissmissed')&(raw['Conflict_Itype']!='Dismissed')]\n",
    "#Simplified dataFrame for accounting exploration\n",
    "df = raw.drop(columns= ['Conflict_Partof','Conflict_Itype', 'Computed','Observer','Expression'])\n",
    "# los observers cambian según el escenario entonces en realidad daría igual si dejarlo o no en el dataframe??\n",
    "\n",
    "Inputs = df[df['Orientation']=='Input']\n",
    "Outputs = df[df['Orientation'] == 'Output']\n",
    "\n",
    "Inputs =Inputs.rename(columns= {'Value': 'Value_Input'})\n",
    "Outputs = Outputs.rename(columns={'Value':'Value_Output'})\n",
    "\n",
    "Inputs = Inputs.drop(columns = \"Orientation\")\n",
    "Outputs = Outputs.drop(columns = \"Orientation\")\n",
    "\n",
    "data = pd.merge(Inputs,Outputs, how = 'outer')\n",
    "\n",
    "data['Value'] = abs(data['Value_Input'].fillna(0)-data['Value_Output'].fillna(0))"
   ]
  },
  {
   "cell_type": "code",
   "execution_count": 60,
   "metadata": {},
   "outputs": [],
   "source": [
    "data.to_csv('flow_graph_solution_clean.csv')\n"
   ]
  },
  {
   "cell_type": "code",
   "execution_count": 61,
   "metadata": {},
   "outputs": [
    {
     "data": {
      "application/vnd.jupyter.widget-view+json": {
       "model_id": "56779bbdc3ff49cba3712a5392ed1f0a",
       "version_major": 2,
       "version_minor": 0
      },
      "text/plain": [
       "QgridWidget(grid_options={'fullWidthRows': True, 'syncColumnCellResize': True, 'forceFitColumns': True, 'defau…"
      ]
     },
     "metadata": {},
     "output_type": "display_data"
    }
   ],
   "source": [
    "# Ver porqué no me funciona esto\n",
    "qgrid_widget = qgrid.show_grid(data,show_toolbar= True)\n",
    "qgrid_widget"
   ]
  },
  {
   "cell_type": "markdown",
   "metadata": {},
   "source": [
    "Dar la opción de ver input y output o de verlo en total en la gráfica de barras poner el input como +y aoutput como negativo?"
   ]
  },
  {
   "cell_type": "markdown",
   "metadata": {},
   "source": [
    "### BarChart by Level"
   ]
  },
  {
   "cell_type": "code",
   "execution_count": 62,
   "metadata": {},
   "outputs": [
    {
     "data": {
      "application/vnd.jupyter.widget-view+json": {
       "model_id": "8a92677d615b44ceac34ea81becacc5a",
       "version_major": 2,
       "version_minor": 0
      },
      "text/plain": [
       "interactive(children=(Dropdown(description='Level', options=('n-1', 'n', 'n-2', 'n-4', 'n-3'), value='n-1'), D…"
      ]
     },
     "metadata": {},
     "output_type": "display_data"
    },
    {
     "data": {
      "application/vnd.jupyter.widget-view+json": {
       "model_id": "2d2a8123eba442e3b1e8436e336acc24",
       "version_major": 2,
       "version_minor": 0
      },
      "text/plain": [
       "VBox(children=(FigureWidget({\n",
       "    'data': [], 'layout': {'template': '...'}\n",
       "}),), layout=Layout(border='solid …"
      ]
     },
     "metadata": {},
     "output_type": "display_data"
    }
   ],
   "source": [
    "fig = go.FigureWidget( layout=go.Layout())\n",
    "@interact(Level = list(set(data['Level'])), \n",
    "          Scenario = list(set(data['Scenario'])),\n",
    "          Period = list(set(data['Period'])),\n",
    "          Scope = list(set(data['Scope'])),\n",
    "          Interface = list(set(data['Interface']))\n",
    "         )\n",
    "def Bar_chart_Level(Level,Scenario,Period,Scope,Interface):\n",
    "    data = pd.read_csv(\"flow_graph_solution_clean.csv\")\n",
    "    data = data[(data['Scenario'] == Scenario)&(data['Level'] == Level)&(data['Period'] == Period)&(data['Scope'] == Scope)&(data['Interface'] == Interface)]    \n",
    "    y_pos =np.arange(len(data.Processor))\n",
    "    plt.bar(y_pos,data['Value'])\n",
    "    plt.xticks(y_pos,data.Processor, rotation = 90)\n",
    "    plt.show()\n",
    "\n",
    "ipywLayout = widgets.Layout(border='solid 2px green')\n",
    "ipywLayout.display='none'\n",
    "widgets.VBox([fig], layout=ipywLayout)   \n",
    "    \n",
    "    "
   ]
  },
  {
   "cell_type": "code",
   "execution_count": 63,
   "metadata": {},
   "outputs": [
    {
     "data": {
      "application/vnd.jupyter.widget-view+json": {
       "model_id": "878819da5f604e528de2ac56ded47baa",
       "version_major": 2,
       "version_minor": 0
      },
      "text/plain": [
       "interactive(children=(Dropdown(description='Processor', options=('G.Convencional.GH', 'P', 'P.Convencional.GH.…"
      ]
     },
     "metadata": {},
     "output_type": "display_data"
    }
   ],
   "source": [
    "fig = go.FigureWidget( layout=go.Layout())\n",
    "@interact(Scope = list(set(data['Scope'])),\n",
    "          Interface = list(set(data['Interface'])),\n",
    "          Processor = list(set(data['Processor'])),\n",
    "          Period = list(set(data['Period']))\n",
    "         )\n",
    "def Bar_chart_scenario(Processor,Period,Scope,Interface):\n",
    "    data = pd.read_csv(\"flow_graph_solution_clean.csv\")\n",
    "    data = data[(data['Processor'] == Processor)&(data['Period'] == Period)&(data['Scope'] == Scope)&(data['Interface'] == Interface)]    \n",
    "    y_pos =np.arange(len(data.Scenario))\n",
    "    plt.bar(y_pos,data.Value)\n",
    "    plt.xticks(y_pos,data.Scenario, rotation = 90)\n",
    "    plt.show()"
   ]
  },
  {
   "cell_type": "code",
   "execution_count": 65,
   "metadata": {
    "scrolled": true
   },
   "outputs": [
    {
     "data": {
      "application/vnd.jupyter.widget-view+json": {
       "model_id": "ab0b64fa2c774faba6ccd4e43e3f7ad5",
       "version_major": 2,
       "version_minor": 0
      },
      "text/plain": [
       "interactive(children=(Dropdown(description='Scope', options=('Total', 'Internal'), value='Total'), Dropdown(de…"
      ]
     },
     "metadata": {},
     "output_type": "display_data"
    }
   ],
   "source": [
    "fig = go.FigureWidget( layout=go.Layout())\n",
    "@interact(Scope = list(set(data['Scope'])),\n",
    "          Interface = list(set(data['Interface'])),\n",
    "          Scenario = list(set(data['Scenario'])),\n",
    "          Level = list(set(data['Level']))\n",
    "         )\n",
    "def Time_Interface(Scope,Interface,Level,Scenario):\n",
    "    data = pd.read_csv(\"flow_graph_solution2.csv\")\n",
    "    data = data[(data['Level'] == Level)&(data['Scope'] == Scope)&(data['Interface'] == Interface)&(data['Scenario']== Scenario)]  \n",
    "    Processors= list(set(data['Processor']))\n",
    "    Unit = list(set(data['Unit']))  \n",
    "    datatempspread =  data[['Processor','Value','Period']].pivot(index = 'Period',columns='Processor',values='Value')\n",
    "    datatempspread = datatempspread.reset_index()\n",
    "    fig, ax = plt.subplots()\n",
    "    for nm in Processors:\n",
    "        ax.plot(datatempspread['Period'],datatempspread[nm], label=nm)\n",
    "        # Set x-ticks to yearly interval, adjust y-axis limits, add legend and labels   \n",
    "        ax.legend()\n",
    "        ax.set_ylabel(Interface[0]+' ' + Unit[0])\n",
    "        ax.set_title(Level);\n",
    "    plt.legend(bbox_to_anchor=(1.05, 1), loc='upper left', borderaxespad=0.)\n",
    "    plt.show()"
   ]
  },
  {
   "cell_type": "code",
   "execution_count": 67,
   "metadata": {},
   "outputs": [
    {
     "data": {
      "text/plain": [
       "True"
      ]
     },
     "execution_count": 67,
     "metadata": {},
     "output_type": "execute_result"
    }
   ],
   "source": [
    "c.close_session()"
   ]
  },
  {
   "cell_type": "code",
   "execution_count": 68,
   "metadata": {},
   "outputs": [
    {
     "data": {
      "text/plain": [
       "True"
      ]
     },
     "execution_count": 68,
     "metadata": {},
     "output_type": "execute_result"
    }
   ],
   "source": [
    "c.logout()"
   ]
  },
  {
   "cell_type": "code",
   "execution_count": null,
   "metadata": {},
   "outputs": [],
   "source": []
  }
 ],
 "metadata": {
  "kernelspec": {
   "display_name": "Python 3",
   "language": "python",
   "name": "python3"
  },
  "language_info": {
   "codemirror_mode": {
    "name": "ipython",
    "version": 3
   },
   "file_extension": ".py",
   "mimetype": "text/x-python",
   "name": "python",
   "nbconvert_exporter": "python",
   "pygments_lexer": "ipython3",
   "version": "3.7.1"
  }
 },
 "nbformat": 4,
 "nbformat_minor": 2
}

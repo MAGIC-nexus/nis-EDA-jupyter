{
 "cells": [
  {
   "cell_type": "code",
   "execution_count": 4,
   "metadata": {},
   "outputs": [],
   "source": [
    "# importing libraries\n",
    "\n",
    "from __future__ import print_function\n",
    "from ipywidgets import interact, interactive, fixed, interact_manual\n",
    "from IPython.core.display import display, HTML\n",
    "\n",
    "import numpy as np\n",
    "import pandas as pd\n",
    "import matplotlib.pyplot as plt\n",
    "import plotly.express as px\n",
    "import folium\n",
    "import plotly.graph_objects as go\n",
    "import seaborn as sns\n",
    "import ipywidgets as widgets\n",
    "from ipywidgets import interact, interactive, fixed, interact_manual\n",
    "from nexinfosys import NISClient, display_visjs_jupyterlab\n",
    "import io\n",
    "import networkx as nx\n",
    "import csv\n"
   ]
  },
  {
   "cell_type": "code",
   "execution_count": 5,
   "metadata": {},
   "outputs": [],
   "source": [
    "def write_csv(output_csv,name): #eg flow_graph_solution.csv\n",
    "    with open(name,'wb') as file:\n",
    "        for line in output_csv:\n",
    "            file.write(line)\n",
    "    return name"
   ]
  },
  {
   "cell_type": "code",
   "execution_count": 6,
   "metadata": {},
   "outputs": [],
   "source": [
    "# Input Nis Format File\n",
    "fname = 'DatosGC_NIS3ToNIS - sin duplicados.xlsx'"
   ]
  },
  {
   "cell_type": "markdown",
   "metadata": {},
   "source": [
    "### Connect to Nis Client"
   ]
  },
  {
   "cell_type": "code",
   "execution_count": 7,
   "metadata": {},
   "outputs": [
    {
     "data": {
      "text/plain": [
       "True"
      ]
     },
     "execution_count": 7,
     "metadata": {},
     "output_type": "execute_result"
    }
   ],
   "source": [
    "c = NISClient(\"https://one.nis.magic-nexus.eu/nis_api\")\n",
    "#To local:\n",
    "#c = NISClient(\"http://localhost:5000/nis_api\")\n",
    "# Login, open session, load a workbook (which is in Nextcloud), submit (execute!)\n",
    "c.login(\"test_user\")\n",
    "#print(\"Logged in\")"
   ]
  },
  {
   "cell_type": "code",
   "execution_count": 8,
   "metadata": {},
   "outputs": [
    {
     "data": {
      "text/plain": [
       "True"
      ]
     },
     "execution_count": 8,
     "metadata": {},
     "output_type": "execute_result"
    }
   ],
   "source": [
    "c.open_session()\n",
    "#print(\"Session opened\")"
   ]
  },
  {
   "cell_type": "code",
   "execution_count": 9,
   "metadata": {},
   "outputs": [
    {
     "name": "stdout",
     "output_type": "stream",
     "text": [
      "N worksheets: 10\n"
     ]
    }
   ],
   "source": [
    "n = c.load_workbook(fname)\n",
    "print(\"N worksheets: \"+str(n))"
   ]
  },
  {
   "cell_type": "code",
   "execution_count": 10,
   "metadata": {},
   "outputs": [],
   "source": [
    "r = c.submit()"
   ]
  },
  {
   "cell_type": "code",
   "execution_count": 11,
   "metadata": {},
   "outputs": [],
   "source": [
    "any_error = False\n",
    "if len(r) > 0:\n",
    "    for i in r:\n",
    "        if i[\"type\"] == 3:\n",
    "            any_error = True\n",
    "            print(str(i))\n",
    "            "
   ]
  },
  {
   "cell_type": "code",
   "execution_count": 12,
   "metadata": {},
   "outputs": [],
   "source": [
    "if not any_error:\n",
    "    # Obtain available datasets\n",
    "    r = c.query_available_datasets()\n",
    "    if len(r) > 0:\n",
    "        results = {}\n",
    "        for ds in r:\n",
    "            results[ds[\"name\"]] = {d[\"format\"].lower(): d[\"url\"] for d in ds[\"formats\"]}\n"
   ]
  },
  {
   "cell_type": "code",
   "execution_count": 13,
   "metadata": {},
   "outputs": [],
   "source": [
    "#See Warnings\n",
    "#pd.DataFrame(r)"
   ]
  },
  {
   "cell_type": "markdown",
   "metadata": {},
   "source": [
    "### Available Resuts"
   ]
  },
  {
   "cell_type": "code",
   "execution_count": 14,
   "metadata": {
    "scrolled": true
   },
   "outputs": [
    {
     "data": {
      "text/html": [
       "<div>\n",
       "<style scoped>\n",
       "    .dataframe tbody tr th:only-of-type {\n",
       "        vertical-align: middle;\n",
       "    }\n",
       "\n",
       "    .dataframe tbody tr th {\n",
       "        vertical-align: top;\n",
       "    }\n",
       "\n",
       "    .dataframe thead th {\n",
       "        text-align: right;\n",
       "    }\n",
       "</style>\n",
       "<table border=\"1\" class=\"dataframe\">\n",
       "  <thead>\n",
       "    <tr style=\"text-align: right;\">\n",
       "      <th></th>\n",
       "      <th>description</th>\n",
       "      <th>formats</th>\n",
       "      <th>name</th>\n",
       "      <th>type</th>\n",
       "    </tr>\n",
       "  </thead>\n",
       "  <tbody>\n",
       "    <tr>\n",
       "      <th>0</th>\n",
       "      <td>Parameter values per Scenario [4 rows, 12 cell...</td>\n",
       "      <td>[{'format': 'CSV', 'url': '/nis_api/isession/r...</td>\n",
       "      <td>params</td>\n",
       "      <td>dataset</td>\n",
       "    </tr>\n",
       "    <tr>\n",
       "      <th>1</th>\n",
       "      <td>Flow Graph Solver - Interfaces [1624 rows, 292...</td>\n",
       "      <td>[{'format': 'CSV', 'url': '/nis_api/isession/r...</td>\n",
       "      <td>flow_graph_solution</td>\n",
       "      <td>dataset</td>\n",
       "    </tr>\n",
       "    <tr>\n",
       "      <th>2</th>\n",
       "      <td>Graph of Interfaces, Quantities; Scales and Ex...</td>\n",
       "      <td>[{'format': 'VisJS', 'url': '/nis_api/isession...</td>\n",
       "      <td>interfaces_graph</td>\n",
       "      <td>graph</td>\n",
       "    </tr>\n",
       "    <tr>\n",
       "      <th>3</th>\n",
       "      <td>Processors and exchanges graph</td>\n",
       "      <td>[{'format': 'VisJS', 'url': '/nis_api/isession...</td>\n",
       "      <td>processors_graph</td>\n",
       "      <td>graph</td>\n",
       "    </tr>\n",
       "    <tr>\n",
       "      <th>4</th>\n",
       "      <td>Dictionary of Sankey Graph for every scenario ...</td>\n",
       "      <td>[{'format': 'JSON', 'url': '/nis_api/isession/...</td>\n",
       "      <td>Sankey_Graph</td>\n",
       "      <td>Graph</td>\n",
       "    </tr>\n",
       "    <tr>\n",
       "      <th>5</th>\n",
       "      <td>Processors</td>\n",
       "      <td>[{'format': 'GeoJSON', 'url': '/nis_api/isessi...</td>\n",
       "      <td>processors_geolayer</td>\n",
       "      <td>geolayer</td>\n",
       "    </tr>\n",
       "    <tr>\n",
       "      <th>6</th>\n",
       "      <td>Model</td>\n",
       "      <td>[{'format': 'JSON', 'url': '/nis_api/isession/...</td>\n",
       "      <td>Model</td>\n",
       "      <td>model</td>\n",
       "    </tr>\n",
       "    <tr>\n",
       "      <th>7</th>\n",
       "      <td>OWL ontology</td>\n",
       "      <td>[{'format': 'OWL', 'url': '/nis_api/isession/r...</td>\n",
       "      <td>Ontology</td>\n",
       "      <td>ontology</td>\n",
       "    </tr>\n",
       "    <tr>\n",
       "      <th>8</th>\n",
       "      <td>Python script</td>\n",
       "      <td>[{'format': 'Python', 'url': '/nis_api/isessio...</td>\n",
       "      <td>Python script</td>\n",
       "      <td>script</td>\n",
       "    </tr>\n",
       "    <tr>\n",
       "      <th>9</th>\n",
       "      <td>R script</td>\n",
       "      <td>[{'format': 'R', 'url': '/nis_api/isession/rse...</td>\n",
       "      <td>R script</td>\n",
       "      <td>script</td>\n",
       "    </tr>\n",
       "    <tr>\n",
       "      <th>10</th>\n",
       "      <td>Reference of all commands and their fields</td>\n",
       "      <td>[{'format': 'html', 'url': '/nis_api/isession/...</td>\n",
       "      <td>Commands reference</td>\n",
       "      <td>document</td>\n",
       "    </tr>\n",
       "  </tbody>\n",
       "</table>\n",
       "</div>"
      ],
      "text/plain": [
       "                                          description  \\\n",
       "0   Parameter values per Scenario [4 rows, 12 cell...   \n",
       "1   Flow Graph Solver - Interfaces [1624 rows, 292...   \n",
       "2   Graph of Interfaces, Quantities; Scales and Ex...   \n",
       "3                      Processors and exchanges graph   \n",
       "4   Dictionary of Sankey Graph for every scenario ...   \n",
       "5                                          Processors   \n",
       "6                                               Model   \n",
       "7                                        OWL ontology   \n",
       "8                                       Python script   \n",
       "9                                            R script   \n",
       "10         Reference of all commands and their fields   \n",
       "\n",
       "                                              formats                 name  \\\n",
       "0   [{'format': 'CSV', 'url': '/nis_api/isession/r...               params   \n",
       "1   [{'format': 'CSV', 'url': '/nis_api/isession/r...  flow_graph_solution   \n",
       "2   [{'format': 'VisJS', 'url': '/nis_api/isession...     interfaces_graph   \n",
       "3   [{'format': 'VisJS', 'url': '/nis_api/isession...     processors_graph   \n",
       "4   [{'format': 'JSON', 'url': '/nis_api/isession/...         Sankey_Graph   \n",
       "5   [{'format': 'GeoJSON', 'url': '/nis_api/isessi...  processors_geolayer   \n",
       "6   [{'format': 'JSON', 'url': '/nis_api/isession/...                Model   \n",
       "7   [{'format': 'OWL', 'url': '/nis_api/isession/r...             Ontology   \n",
       "8   [{'format': 'Python', 'url': '/nis_api/isessio...        Python script   \n",
       "9   [{'format': 'R', 'url': '/nis_api/isession/rse...             R script   \n",
       "10  [{'format': 'html', 'url': '/nis_api/isession/...   Commands reference   \n",
       "\n",
       "        type  \n",
       "0    dataset  \n",
       "1    dataset  \n",
       "2      graph  \n",
       "3      graph  \n",
       "4      Graph  \n",
       "5   geolayer  \n",
       "6      model  \n",
       "7   ontology  \n",
       "8     script  \n",
       "9     script  \n",
       "10  document  "
      ]
     },
     "execution_count": 14,
     "metadata": {},
     "output_type": "execute_result"
    }
   ],
   "source": [
    "pd.DataFrame(c.query_available_datasets())"
   ]
  },
  {
   "cell_type": "code",
   "execution_count": 15,
   "metadata": {},
   "outputs": [],
   "source": [
    "#TODO widget para elegir output y descagarlo"
   ]
  },
  {
   "cell_type": "markdown",
   "metadata": {},
   "source": [
    "## Exploring Flow Graph Solution"
   ]
  },
  {
   "cell_type": "code",
   "execution_count": 16,
   "metadata": {},
   "outputs": [],
   "source": [
    "flow_graph_solution = c.download_results([(results[\"flow_graph_solution\"]['csv'])])\n",
    "write_csv(flow_graph_solution,\"flow_graph_solution.csv\")\n",
    "df = pd.read_csv(\"flow_graph_solution.csv\")"
   ]
  },
  {
   "cell_type": "code",
   "execution_count": 36,
   "metadata": {},
   "outputs": [
    {
     "data": {
      "text/html": [
       "<div>\n",
       "<style scoped>\n",
       "    .dataframe tbody tr th:only-of-type {\n",
       "        vertical-align: middle;\n",
       "    }\n",
       "\n",
       "    .dataframe tbody tr th {\n",
       "        vertical-align: top;\n",
       "    }\n",
       "\n",
       "    .dataframe thead th {\n",
       "        text-align: right;\n",
       "    }\n",
       "</style>\n",
       "<table border=\"1\" class=\"dataframe\">\n",
       "  <thead>\n",
       "    <tr style=\"text-align: right;\">\n",
       "      <th></th>\n",
       "      <th>Scenario</th>\n",
       "      <th>Period</th>\n",
       "      <th>Scope</th>\n",
       "      <th>Conflict_Partof</th>\n",
       "      <th>Conflict_Itype</th>\n",
       "      <th>Processor</th>\n",
       "      <th>Interface</th>\n",
       "      <th>Orientation</th>\n",
       "      <th>RoegenType</th>\n",
       "      <th>Value</th>\n",
       "      <th>Computed</th>\n",
       "      <th>Observer</th>\n",
       "      <th>Expression</th>\n",
       "      <th>Unit</th>\n",
       "      <th>Level</th>\n",
       "      <th>System</th>\n",
       "      <th>Subsystem</th>\n",
       "      <th>Sphere</th>\n",
       "    </tr>\n",
       "  </thead>\n",
       "  <tbody>\n",
       "    <tr>\n",
       "      <th>0</th>\n",
       "      <td>default</td>\n",
       "      <td>2019</td>\n",
       "      <td>Internal</td>\n",
       "      <td>No</td>\n",
       "      <td>No</td>\n",
       "      <td>G</td>\n",
       "      <td>Agua</td>\n",
       "      <td>Input</td>\n",
       "      <td>Flow</td>\n",
       "      <td>1945548.0</td>\n",
       "      <td>Yes</td>\n",
       "      <td>NaN</td>\n",
       "      <td>((G.Convencional:Agua:Input)+(G.Ecologico:Agua...</td>\n",
       "      <td>m3</td>\n",
       "      <td>n</td>\n",
       "      <td>GC</td>\n",
       "      <td>Local</td>\n",
       "      <td>Technosphere</td>\n",
       "    </tr>\n",
       "    <tr>\n",
       "      <th>1</th>\n",
       "      <td>default</td>\n",
       "      <td>2019</td>\n",
       "      <td>Internal</td>\n",
       "      <td>No</td>\n",
       "      <td>No</td>\n",
       "      <td>G</td>\n",
       "      <td>AsalariadosTC</td>\n",
       "      <td>Input</td>\n",
       "      <td>Fund</td>\n",
       "      <td>738720.0</td>\n",
       "      <td>Yes</td>\n",
       "      <td>NaN</td>\n",
       "      <td>((G.Convencional:AsalariadosTC:Input)+(G.Ecolo...</td>\n",
       "      <td>hr</td>\n",
       "      <td>n</td>\n",
       "      <td>GC</td>\n",
       "      <td>Local</td>\n",
       "      <td>Technosphere</td>\n",
       "    </tr>\n",
       "    <tr>\n",
       "      <th>2</th>\n",
       "      <td>default</td>\n",
       "      <td>2019</td>\n",
       "      <td>Internal</td>\n",
       "      <td>No</td>\n",
       "      <td>No</td>\n",
       "      <td>G</td>\n",
       "      <td>DES90yREU</td>\n",
       "      <td>Input</td>\n",
       "      <td>Flow</td>\n",
       "      <td>271112.5</td>\n",
       "      <td>Yes</td>\n",
       "      <td>NaN</td>\n",
       "      <td>G.Integrado:DES90yREU:Input</td>\n",
       "      <td>m3</td>\n",
       "      <td>n</td>\n",
       "      <td>GC</td>\n",
       "      <td>Local</td>\n",
       "      <td>Technosphere</td>\n",
       "    </tr>\n",
       "    <tr>\n",
       "      <th>3</th>\n",
       "      <td>default</td>\n",
       "      <td>2019</td>\n",
       "      <td>Internal</td>\n",
       "      <td>No</td>\n",
       "      <td>No</td>\n",
       "      <td>G</td>\n",
       "      <td>HA</td>\n",
       "      <td>Input</td>\n",
       "      <td>Fund</td>\n",
       "      <td>885840.0</td>\n",
       "      <td>Yes</td>\n",
       "      <td>NaN</td>\n",
       "      <td>((G.Convencional:HA:Input)+(G.Ecologico:HA:Inp...</td>\n",
       "      <td>hr</td>\n",
       "      <td>n</td>\n",
       "      <td>GC</td>\n",
       "      <td>Local</td>\n",
       "      <td>Technosphere</td>\n",
       "    </tr>\n",
       "    <tr>\n",
       "      <th>4</th>\n",
       "      <td>default</td>\n",
       "      <td>2019</td>\n",
       "      <td>Internal</td>\n",
       "      <td>No</td>\n",
       "      <td>No</td>\n",
       "      <td>G</td>\n",
       "      <td>LU</td>\n",
       "      <td>Input</td>\n",
       "      <td>Fund</td>\n",
       "      <td>235.5</td>\n",
       "      <td>Yes</td>\n",
       "      <td>NaN</td>\n",
       "      <td>((G.Convencional:LU:Input)+(G.Ecologico:LU:Inp...</td>\n",
       "      <td>ha</td>\n",
       "      <td>n</td>\n",
       "      <td>GC</td>\n",
       "      <td>Local</td>\n",
       "      <td>Technosphere</td>\n",
       "    </tr>\n",
       "  </tbody>\n",
       "</table>\n",
       "</div>"
      ],
      "text/plain": [
       "  Scenario  Period     Scope Conflict_Partof Conflict_Itype Processor  \\\n",
       "0  default    2019  Internal              No             No         G   \n",
       "1  default    2019  Internal              No             No         G   \n",
       "2  default    2019  Internal              No             No         G   \n",
       "3  default    2019  Internal              No             No         G   \n",
       "4  default    2019  Internal              No             No         G   \n",
       "\n",
       "       Interface Orientation RoegenType      Value Computed  Observer  \\\n",
       "0           Agua       Input       Flow  1945548.0      Yes       NaN   \n",
       "1  AsalariadosTC       Input       Fund   738720.0      Yes       NaN   \n",
       "2      DES90yREU       Input       Flow   271112.5      Yes       NaN   \n",
       "3             HA       Input       Fund   885840.0      Yes       NaN   \n",
       "4             LU       Input       Fund      235.5      Yes       NaN   \n",
       "\n",
       "                                          Expression Unit Level System  \\\n",
       "0  ((G.Convencional:Agua:Input)+(G.Ecologico:Agua...   m3     n     GC   \n",
       "1  ((G.Convencional:AsalariadosTC:Input)+(G.Ecolo...   hr     n     GC   \n",
       "2                        G.Integrado:DES90yREU:Input   m3     n     GC   \n",
       "3  ((G.Convencional:HA:Input)+(G.Ecologico:HA:Inp...   hr     n     GC   \n",
       "4  ((G.Convencional:LU:Input)+(G.Ecologico:LU:Inp...   ha     n     GC   \n",
       "\n",
       "  Subsystem        Sphere  \n",
       "0     Local  Technosphere  \n",
       "1     Local  Technosphere  \n",
       "2     Local  Technosphere  \n",
       "3     Local  Technosphere  \n",
       "4     Local  Technosphere  "
      ]
     },
     "execution_count": 36,
     "metadata": {},
     "output_type": "execute_result"
    }
   ],
   "source": [
    "df.head()"
   ]
  },
  {
   "cell_type": "markdown",
   "metadata": {},
   "source": [
    "### Bar Plot By Level"
   ]
  },
  {
   "cell_type": "code",
   "execution_count": 35,
   "metadata": {},
   "outputs": [
    {
     "data": {
      "application/vnd.jupyter.widget-view+json": {
       "model_id": "16f546e558ba4886b18499961de04e88",
       "version_major": 2,
       "version_minor": 0
      },
      "text/plain": [
       "interactive(children=(Dropdown(description='Level', options=('n-4', 'n-3', 'n-2', 'n-1', 'n'), value='n-4'), D…"
      ]
     },
     "metadata": {},
     "output_type": "display_data"
    },
    {
     "data": {
      "application/vnd.jupyter.widget-view+json": {
       "model_id": "5c16b8421bce42e3af2f61944f531a6e",
       "version_major": 2,
       "version_minor": 0
      },
      "text/plain": [
       "VBox(children=(FigureWidget({\n",
       "    'data': [], 'layout': {'template': '...'}\n",
       "}),), layout=Layout(border='solid …"
      ]
     },
     "metadata": {},
     "output_type": "display_data"
    }
   ],
   "source": [
    "fig = go.FigureWidget( layout=go.Layout() )\n",
    "@interact(Level = list(set(df['Level'])), \n",
    "          Scenario = list(set(df['Scenario'])),\n",
    "          Period = list(set(df['Period'])),\n",
    "          Scope = list(set(df['Scope'])),\n",
    "          Interface = list(set(df['Interface']))         \n",
    "         )\n",
    "def Bar_chart_Level(Level,Scenario,Period,Scope,Interface):\n",
    "    data = pd.read_csv(\"flow_graph_solution.csv\")\n",
    "    data = data[(data['Scenario'] == Scenario)&(data['Level'] == Level)&(data['Period'] == Period)&(data['Scope'] == Scope)&(data['Interface'] == Interface)]\n",
    "    y_pos =np.arange(len(data.Processor))\n",
    "    plt.bar(y_pos,data.Value)\n",
    "    plt.xticks(y_pos,data.Processor, rotation = 90)\n",
    "    plt.show()\n",
    "\n",
    "ipywLayout = widgets.Layout(border='solid 2px green')\n",
    "ipywLayout.display='none'\n",
    "widgets.VBox([fig], layout=ipywLayout)   \n",
    "    \n",
    "    "
   ]
  },
  {
   "cell_type": "code",
   "execution_count": 25,
   "metadata": {},
   "outputs": [],
   "source": []
  },
  {
   "cell_type": "code",
   "execution_count": null,
   "metadata": {},
   "outputs": [],
   "source": []
  }
 ],
 "metadata": {
  "kernelspec": {
   "display_name": "Python 3",
   "language": "python",
   "name": "python3"
  },
  "language_info": {
   "codemirror_mode": {
    "name": "ipython",
    "version": 3
   },
   "file_extension": ".py",
   "mimetype": "text/x-python",
   "name": "python",
   "nbconvert_exporter": "python",
   "pygments_lexer": "ipython3",
   "version": "3.6.9"
  }
 },
 "nbformat": 4,
 "nbformat_minor": 2
}

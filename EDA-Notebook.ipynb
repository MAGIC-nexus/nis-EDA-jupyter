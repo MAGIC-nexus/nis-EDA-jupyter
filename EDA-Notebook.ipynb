{
 "cells": [
  {
   "cell_type": "code",
   "execution_count": 1,
   "metadata": {},
   "outputs": [],
   "source": [
    "# importing libraries\n",
    "from __future__ import print_function\n",
    "from ipywidgets import interact, interactive, fixed, interact_manual\n",
    "from IPython.core.display import display, HTML\n",
    "\n",
    "import numpy as np\n",
    "import pandas as pd\n",
    "import geopandas as gpd\n",
    "import matplotlib.pyplot as plt\n",
    "from nexinfosys import NISClient, display_visjs_jupyterlab\n",
    "import plotly.express as px\n",
    "import folium\n",
    "import plotly.graph_objects as go\n",
    "import seaborn as sns\n",
    "import ipywidgets as widgets\n",
    "from ipywidgets import interact, interactive, fixed, interact_manual\n",
    "from nexinfosys import NISClient, display_visjs_jupyterlab\n",
    "import io\n",
    "import networkx as nx\n",
    "import csv\n",
    "import qgrid\n",
    "\n"
   ]
  },
  {
   "cell_type": "code",
   "execution_count": 2,
   "metadata": {},
   "outputs": [],
   "source": [
    "def write_csv(output_csv,name): #eg flow_graph_solution.csv\n",
    "    with open(name,'wb') as file:\n",
    "        for line in output_csv:\n",
    "            file.write(line)\n",
    "    return name"
   ]
  },
  {
   "cell_type": "code",
   "execution_count": 3,
   "metadata": {},
   "outputs": [],
   "source": [
    "# Input Nis Format File\n",
    "#fname =  'howTo Clone CloneScale.xlsx'\n",
    "fname = 'howTo Indicators.xlsx'\n",
    "#fname = 'howTo Examples ScaleChange-Observers-Conflict.xlsx'"
   ]
  },
  {
   "cell_type": "code",
   "execution_count": 4,
   "metadata": {},
   "outputs": [
    {
     "name": "stdout",
     "output_type": "stream",
     "text": [
      "EDA-Notebook.ipynb\t\t\t   howTo Indicators.xlsx\r\n",
      "howTo Clone CloneScale.xlsx\t\t   README.md\r\n",
      "howTo Examples ScaleChange-Observers.xlsx\r\n"
     ]
    }
   ],
   "source": [
    "!ls"
   ]
  },
  {
   "cell_type": "markdown",
   "metadata": {},
   "source": [
    "### Connect to Nis Client"
   ]
  },
  {
   "cell_type": "code",
   "execution_count": 5,
   "metadata": {
    "scrolled": true
   },
   "outputs": [
    {
     "data": {
      "text/plain": [
       "True"
      ]
     },
     "execution_count": 5,
     "metadata": {},
     "output_type": "execute_result"
    }
   ],
   "source": [
    "#c = NISClient(\"https://one.nis.magic-nexus.eu/nis_api\")\n",
    "#To local:\n",
    "#c = NISClient(\"http://localhost:5000/nis_api\")\n",
    "c = NISClient(\"http://172.17.0.1:5000/nis_api\")\n",
    "# Login, open session, load a workbook (which is in Nextcloud), submit (execute!)\n",
    "c.login(\"test_user\")\n",
    "#print(\"Logged in\")"
   ]
  },
  {
   "cell_type": "code",
   "execution_count": 6,
   "metadata": {},
   "outputs": [
    {
     "data": {
      "text/plain": [
       "True"
      ]
     },
     "execution_count": 6,
     "metadata": {},
     "output_type": "execute_result"
    }
   ],
   "source": [
    "c.open_session()\n",
    "#print(\"Session opened\")"
   ]
  },
  {
   "cell_type": "code",
   "execution_count": 7,
   "metadata": {},
   "outputs": [
    {
     "name": "stdout",
     "output_type": "stream",
     "text": [
      "N worksheets: 10\n"
     ]
    }
   ],
   "source": [
    "n = c.load_workbook(fname)\n",
    "print(\"N worksheets: \"+str(n))"
   ]
  },
  {
   "cell_type": "code",
   "execution_count": 8,
   "metadata": {},
   "outputs": [],
   "source": [
    "r = c.submit()"
   ]
  },
  {
   "cell_type": "code",
   "execution_count": 9,
   "metadata": {},
   "outputs": [],
   "source": [
    "any_error = False\n",
    "if len(r) > 0:\n",
    "    for i in r:\n",
    "        if i[\"type\"] == 3:\n",
    "            any_error = True\n",
    "            print(str(i))\n",
    "            "
   ]
  },
  {
   "cell_type": "code",
   "execution_count": 10,
   "metadata": {},
   "outputs": [],
   "source": [
    "if not any_error:\n",
    "    # Obtain available datasets\n",
    "    r = c.query_available_datasets()\n",
    "    if len(r) > 0:\n",
    "        results = {}\n",
    "        for ds in r:\n",
    "            results[ds[\"name\"]] = {d[\"format\"].lower(): d[\"url\"] for d in ds[\"formats\"]}\n"
   ]
  },
  {
   "cell_type": "code",
   "execution_count": 11,
   "metadata": {},
   "outputs": [],
   "source": [
    "#See Warnings\n",
    "#pd.DataFrame(r)"
   ]
  },
  {
   "cell_type": "markdown",
   "metadata": {},
   "source": [
    "### Available Resuts"
   ]
  },
  {
   "cell_type": "code",
   "execution_count": 12,
   "metadata": {
    "scrolled": true
   },
   "outputs": [
    {
     "data": {
      "text/html": [
       "<div>\n",
       "<style scoped>\n",
       "    .dataframe tbody tr th:only-of-type {\n",
       "        vertical-align: middle;\n",
       "    }\n",
       "\n",
       "    .dataframe tbody tr th {\n",
       "        vertical-align: top;\n",
       "    }\n",
       "\n",
       "    .dataframe thead th {\n",
       "        text-align: right;\n",
       "    }\n",
       "</style>\n",
       "<table border=\"1\" class=\"dataframe\">\n",
       "  <thead>\n",
       "    <tr style=\"text-align: right;\">\n",
       "      <th></th>\n",
       "      <th>description</th>\n",
       "      <th>formats</th>\n",
       "      <th>name</th>\n",
       "      <th>type</th>\n",
       "    </tr>\n",
       "  </thead>\n",
       "  <tbody>\n",
       "    <tr>\n",
       "      <th>0</th>\n",
       "      <td>Parameter values per Scenario [4 rows, 12 cell...</td>\n",
       "      <td>[{'format': 'CSV', 'url': '/nis_api/isession/r...</td>\n",
       "      <td>params</td>\n",
       "      <td>dataset</td>\n",
       "    </tr>\n",
       "    <tr>\n",
       "      <th>1</th>\n",
       "      <td>Flow Graph Solver - Interfaces [160 rows, 2880...</td>\n",
       "      <td>[{'format': 'CSV', 'url': '/nis_api/isession/r...</td>\n",
       "      <td>flow_graph_solution</td>\n",
       "      <td>dataset</td>\n",
       "    </tr>\n",
       "    <tr>\n",
       "      <th>2</th>\n",
       "      <td>Flow Graph Solver Edges - Interfaces [66 rows,...</td>\n",
       "      <td>[{'format': 'CSV', 'url': '/nis_api/isession/r...</td>\n",
       "      <td>flow_graph_solution_edges</td>\n",
       "      <td>dataset</td>\n",
       "    </tr>\n",
       "    <tr>\n",
       "      <th>3</th>\n",
       "      <td>Flow Graph Solver - Local Indicators [50 rows,...</td>\n",
       "      <td>[{'format': 'CSV', 'url': '/nis_api/isession/r...</td>\n",
       "      <td>flow_graph_solution_indicators</td>\n",
       "      <td>dataset</td>\n",
       "    </tr>\n",
       "    <tr>\n",
       "      <th>4</th>\n",
       "      <td>Flow Graph Solver - Global Indicators [2 rows,...</td>\n",
       "      <td>[{'format': 'CSV', 'url': '/nis_api/isession/r...</td>\n",
       "      <td>flow_graph_global_indicators</td>\n",
       "      <td>dataset</td>\n",
       "    </tr>\n",
       "    <tr>\n",
       "      <th>5</th>\n",
       "      <td>Flow Graph Solver - Local Benchmarks [50 rows,...</td>\n",
       "      <td>[{'format': 'CSV', 'url': '/nis_api/isession/r...</td>\n",
       "      <td>flow_graph_solution_benchmarks</td>\n",
       "      <td>dataset</td>\n",
       "    </tr>\n",
       "    <tr>\n",
       "      <th>6</th>\n",
       "      <td>Flow Graph Solver - Global Benchmarks [2 rows,...</td>\n",
       "      <td>[{'format': 'CSV', 'url': '/nis_api/isession/r...</td>\n",
       "      <td>flow_graph_solution_global_benchmarks</td>\n",
       "      <td>dataset</td>\n",
       "    </tr>\n",
       "    <tr>\n",
       "      <th>7</th>\n",
       "      <td>None [15 rows, 300 cells, 2480 bytes]</td>\n",
       "      <td>[{'format': 'CSV', 'url': '/nis_api/isession/r...</td>\n",
       "      <td>Matrix1</td>\n",
       "      <td>dataset</td>\n",
       "    </tr>\n",
       "    <tr>\n",
       "      <th>8</th>\n",
       "      <td>None [14 rows, 252 cells, 2096 bytes]</td>\n",
       "      <td>[{'format': 'CSV', 'url': '/nis_api/isession/r...</td>\n",
       "      <td>Matrix2</td>\n",
       "      <td>dataset</td>\n",
       "    </tr>\n",
       "    <tr>\n",
       "      <th>9</th>\n",
       "      <td>Graph of Interfaces, Quantities; Scales and Ex...</td>\n",
       "      <td>[{'format': 'VisJS', 'url': '/nis_api/isession...</td>\n",
       "      <td>interfaces_graph</td>\n",
       "      <td>graph</td>\n",
       "    </tr>\n",
       "    <tr>\n",
       "      <th>10</th>\n",
       "      <td>Processors and exchanges graph</td>\n",
       "      <td>[{'format': 'VisJS', 'url': '/nis_api/isession...</td>\n",
       "      <td>processors_graph</td>\n",
       "      <td>graph</td>\n",
       "    </tr>\n",
       "    <tr>\n",
       "      <th>11</th>\n",
       "      <td>Dictionary of Sankey Graph for every scenario ...</td>\n",
       "      <td>[{'format': 'JSON', 'url': '/nis_api/isession/...</td>\n",
       "      <td>Sankey_Graph</td>\n",
       "      <td>Graph</td>\n",
       "    </tr>\n",
       "    <tr>\n",
       "      <th>12</th>\n",
       "      <td>Processors</td>\n",
       "      <td>[{'format': 'GeoJSON', 'url': '/nis_api/isessi...</td>\n",
       "      <td>processors_geolayer</td>\n",
       "      <td>geolayer</td>\n",
       "    </tr>\n",
       "    <tr>\n",
       "      <th>13</th>\n",
       "      <td>Model</td>\n",
       "      <td>[{'format': 'JSON', 'url': '/nis_api/isession/...</td>\n",
       "      <td>Model</td>\n",
       "      <td>model</td>\n",
       "    </tr>\n",
       "    <tr>\n",
       "      <th>14</th>\n",
       "      <td>OWL ontology</td>\n",
       "      <td>[{'format': 'OWL', 'url': '/nis_api/isession/r...</td>\n",
       "      <td>Ontology</td>\n",
       "      <td>ontology</td>\n",
       "    </tr>\n",
       "    <tr>\n",
       "      <th>15</th>\n",
       "      <td>Python script</td>\n",
       "      <td>[{'format': 'Python', 'url': '/nis_api/isessio...</td>\n",
       "      <td>Python script</td>\n",
       "      <td>script</td>\n",
       "    </tr>\n",
       "    <tr>\n",
       "      <th>16</th>\n",
       "      <td>R script</td>\n",
       "      <td>[{'format': 'R', 'url': '/nis_api/isession/rse...</td>\n",
       "      <td>R script</td>\n",
       "      <td>script</td>\n",
       "    </tr>\n",
       "    <tr>\n",
       "      <th>17</th>\n",
       "      <td>Reference of all commands and their fields</td>\n",
       "      <td>[{'format': 'html', 'url': '/nis_api/isession/...</td>\n",
       "      <td>Commands reference</td>\n",
       "      <td>document</td>\n",
       "    </tr>\n",
       "  </tbody>\n",
       "</table>\n",
       "</div>"
      ],
      "text/plain": [
       "                                          description  \\\n",
       "0   Parameter values per Scenario [4 rows, 12 cell...   \n",
       "1   Flow Graph Solver - Interfaces [160 rows, 2880...   \n",
       "2   Flow Graph Solver Edges - Interfaces [66 rows,...   \n",
       "3   Flow Graph Solver - Local Indicators [50 rows,...   \n",
       "4   Flow Graph Solver - Global Indicators [2 rows,...   \n",
       "5   Flow Graph Solver - Local Benchmarks [50 rows,...   \n",
       "6   Flow Graph Solver - Global Benchmarks [2 rows,...   \n",
       "7               None [15 rows, 300 cells, 2480 bytes]   \n",
       "8               None [14 rows, 252 cells, 2096 bytes]   \n",
       "9   Graph of Interfaces, Quantities; Scales and Ex...   \n",
       "10                     Processors and exchanges graph   \n",
       "11  Dictionary of Sankey Graph for every scenario ...   \n",
       "12                                         Processors   \n",
       "13                                              Model   \n",
       "14                                       OWL ontology   \n",
       "15                                      Python script   \n",
       "16                                           R script   \n",
       "17         Reference of all commands and their fields   \n",
       "\n",
       "                                              formats  \\\n",
       "0   [{'format': 'CSV', 'url': '/nis_api/isession/r...   \n",
       "1   [{'format': 'CSV', 'url': '/nis_api/isession/r...   \n",
       "2   [{'format': 'CSV', 'url': '/nis_api/isession/r...   \n",
       "3   [{'format': 'CSV', 'url': '/nis_api/isession/r...   \n",
       "4   [{'format': 'CSV', 'url': '/nis_api/isession/r...   \n",
       "5   [{'format': 'CSV', 'url': '/nis_api/isession/r...   \n",
       "6   [{'format': 'CSV', 'url': '/nis_api/isession/r...   \n",
       "7   [{'format': 'CSV', 'url': '/nis_api/isession/r...   \n",
       "8   [{'format': 'CSV', 'url': '/nis_api/isession/r...   \n",
       "9   [{'format': 'VisJS', 'url': '/nis_api/isession...   \n",
       "10  [{'format': 'VisJS', 'url': '/nis_api/isession...   \n",
       "11  [{'format': 'JSON', 'url': '/nis_api/isession/...   \n",
       "12  [{'format': 'GeoJSON', 'url': '/nis_api/isessi...   \n",
       "13  [{'format': 'JSON', 'url': '/nis_api/isession/...   \n",
       "14  [{'format': 'OWL', 'url': '/nis_api/isession/r...   \n",
       "15  [{'format': 'Python', 'url': '/nis_api/isessio...   \n",
       "16  [{'format': 'R', 'url': '/nis_api/isession/rse...   \n",
       "17  [{'format': 'html', 'url': '/nis_api/isession/...   \n",
       "\n",
       "                                     name      type  \n",
       "0                                  params   dataset  \n",
       "1                     flow_graph_solution   dataset  \n",
       "2               flow_graph_solution_edges   dataset  \n",
       "3          flow_graph_solution_indicators   dataset  \n",
       "4            flow_graph_global_indicators   dataset  \n",
       "5          flow_graph_solution_benchmarks   dataset  \n",
       "6   flow_graph_solution_global_benchmarks   dataset  \n",
       "7                                 Matrix1   dataset  \n",
       "8                                 Matrix2   dataset  \n",
       "9                        interfaces_graph     graph  \n",
       "10                       processors_graph     graph  \n",
       "11                           Sankey_Graph     Graph  \n",
       "12                    processors_geolayer  geolayer  \n",
       "13                                  Model     model  \n",
       "14                               Ontology  ontology  \n",
       "15                          Python script    script  \n",
       "16                               R script    script  \n",
       "17                     Commands reference  document  "
      ]
     },
     "execution_count": 12,
     "metadata": {},
     "output_type": "execute_result"
    }
   ],
   "source": [
    "outputs =pd.DataFrame(c.query_available_datasets())\n",
    "outputs"
   ]
  },
  {
   "cell_type": "code",
   "execution_count": 13,
   "metadata": {},
   "outputs": [],
   "source": [
    "listoutputs = outputs['name']"
   ]
  },
  {
   "cell_type": "markdown",
   "metadata": {},
   "source": [
    "## Download some result"
   ]
  },
  {
   "cell_type": "code",
   "execution_count": 14,
   "metadata": {},
   "outputs": [],
   "source": [
    "def download(c):\n",
    "    outputs =pd.DataFrame(c.query_available_datasets())\n",
    "    listoutputs = outputs['name']\n",
    "\n",
    "    flow_graph_solution = c.download_results([(results[\"flow_graph_solution\"]['csv'])])\n",
    "    write_csv(flow_graph_solution,'flow_graph_solution.csv')\n",
    "\n",
    "    if any(listoutputs == 'flow_graph_global_indicators'):\n",
    "        flow_graph_global_indicators = c.download_results([(results[\"flow_graph_global_indicators\"]['csv'])])\n",
    "        write_csv(flow_graph_global_indicators,'flow_graph_global_indicators.csv')\n",
    "\n",
    "    if any(listoutputs == 'flow_graph_solution_indicators'):\n",
    "        flow_graph_solution_indicators = c.download_results([(results[\"flow_graph_solution_indicators\"]['csv'])])\n",
    "        write_csv(flow_graph_solution_indicators,'flow_graph_solution_indicators.csv')\n",
    "\n",
    "    processors_geolayer = c.download_results([(results[\"processors_geolayer\"]['geojson'])]) \n",
    "    write_csv(processors_geolayer,'processors_geolayer.geojson')\n",
    "\n",
    "    flow_graph_solution_edges = c.download_results([(results[\"flow_graph_solution_edges\"]['csv'])]) \n",
    "    write_csv(flow_graph_solution_edges,'flow_graph_solution_edges.csv')\n",
    "    "
   ]
  },
  {
   "cell_type": "code",
   "execution_count": 15,
   "metadata": {},
   "outputs": [],
   "source": [
    "processors_graph = c.download_results([(results[\"processors_graph\"][\"visjs\"])])\n",
    "interfaces_graph = c.download_results([(results[\"interfaces_graph\"][\"visjs\"])])\n",
    "download(c)"
   ]
  },
  {
   "cell_type": "code",
   "execution_count": 16,
   "metadata": {},
   "outputs": [
    {
     "data": {
      "text/plain": [
       "True"
      ]
     },
     "execution_count": 16,
     "metadata": {},
     "output_type": "execute_result"
    }
   ],
   "source": [
    "c.check_backend_available()"
   ]
  },
  {
   "cell_type": "markdown",
   "metadata": {},
   "source": [
    "###  Terminate Session"
   ]
  },
  {
   "cell_type": "code",
   "execution_count": 17,
   "metadata": {},
   "outputs": [
    {
     "data": {
      "text/plain": [
       "True"
      ]
     },
     "execution_count": 17,
     "metadata": {},
     "output_type": "execute_result"
    }
   ],
   "source": [
    "c.close_session()\n",
    "c.logout()"
   ]
  },
  {
   "cell_type": "markdown",
   "metadata": {},
   "source": [
    "## Processors Graph"
   ]
  },
  {
   "cell_type": "code",
   "execution_count": 18,
   "metadata": {},
   "outputs": [],
   "source": [
    "def display_visjs(graph):\n",
    "    visjs_data2 = graph[0].decode(\"utf-8\")\n",
    "    un2 = None\n",
    "    #unique_name = display_visjs_jupyterlab(visjs_data, 800, unique_name)\n",
    "    un2 = display_visjs_jupyterlab(visjs_data2, 1200, un2)\n"
   ]
  },
  {
   "cell_type": "code",
   "execution_count": 19,
   "metadata": {},
   "outputs": [
    {
     "data": {
      "text/html": [
       "\n",
       "<script type=\"text/javascript\" src=\"https://cdnjs.cloudflare.com/ajax/libs/vis/4.21.0/vis.min.js\"></script>\n",
       "<link href=\"https://cdnjs.cloudflare.com/ajax/libs/vis/4.21.0/vis.min.css\" rel=\"stylesheet\" type=\"text/css\" />\n",
       "\n",
       "  <style type=\"text/css\">\n",
       "    #networkXGZ5USTO5P {\n",
       "      width: 100%;\n",
       "      height: 1200px;\n",
       "      border: 1px solid lightgray;\n",
       "    }\n",
       "  </style>\n",
       "<div id=\"networkXGZ5USTO5P\"></div>    \n",
       "    "
      ],
      "text/plain": [
       "<IPython.core.display.HTML object>"
      ]
     },
     "metadata": {},
     "output_type": "display_data"
    },
    {
     "data": {
      "application/javascript": [
       "\n",
       "function loadScript(ide, url, callback)\n",
       "{\n",
       "    var script = document.getElementById(ide);\n",
       "    if (!script)\n",
       "    {\n",
       "        // Adding the script tag to the head as suggested before\n",
       "        var script = document.createElement('script');\n",
       "        script.type = 'text/javascript';\n",
       "        script.src = url;\n",
       "        script.id = ide;\n",
       "\n",
       "        // Then bind the event to the callback function.\n",
       "        // There are several events for cross browser compatibility.\n",
       "        script.onreadystatechange = callback;\n",
       "        script.onload = callback;\n",
       "        \n",
       "        // Fire the loading\n",
       "        var head = document.head;\n",
       "        head.appendChild(script);\n",
       "    } else {\n",
       "        callback();\n",
       "    }\n",
       "}\n",
       "\n",
       "function loadNetwork() {    \n",
       "  // create a network\n",
       "  var container = document.getElementById('networkXGZ5USTO5P');\n",
       "  var data = {\n",
       "    \"edges\": [\n",
       "        {\n",
       "            \"arrows\": \"to\",\n",
       "            \"etype\": \"part-of\",\n",
       "            \"font\": {\n",
       "                \"size\": 7\n",
       "            },\n",
       "            \"from\": \"3\",\n",
       "            \"graphics\": {\n",
       "                \"fill\": \"#00ffff\",\n",
       "                \"targetArrow\": \"standard\",\n",
       "                \"width\": 3\n",
       "            },\n",
       "            \"to\": \"11\"\n",
       "        },\n",
       "        {\n",
       "            \"arrows\": \"to\",\n",
       "            \"etype\": \"part-of\",\n",
       "            \"font\": {\n",
       "                \"size\": 7\n",
       "            },\n",
       "            \"from\": \"5\",\n",
       "            \"graphics\": {\n",
       "                \"fill\": \"#00ffff\",\n",
       "                \"targetArrow\": \"standard\",\n",
       "                \"width\": 3\n",
       "            },\n",
       "            \"to\": \"7\"\n",
       "        },\n",
       "        {\n",
       "            \"arrows\": \"to\",\n",
       "            \"etype\": \"part-of\",\n",
       "            \"font\": {\n",
       "                \"size\": 7\n",
       "            },\n",
       "            \"from\": \"8\",\n",
       "            \"graphics\": {\n",
       "                \"fill\": \"#00ffff\",\n",
       "                \"targetArrow\": \"standard\",\n",
       "                \"width\": 3\n",
       "            },\n",
       "            \"to\": \"11\"\n",
       "        },\n",
       "        {\n",
       "            \"arrows\": \"to\",\n",
       "            \"etype\": \"part-of\",\n",
       "            \"font\": {\n",
       "                \"size\": 7\n",
       "            },\n",
       "            \"from\": \"9\",\n",
       "            \"graphics\": {\n",
       "                \"fill\": \"#00ffff\",\n",
       "                \"targetArrow\": \"standard\",\n",
       "                \"width\": 3\n",
       "            },\n",
       "            \"to\": \"1\"\n",
       "        },\n",
       "        {\n",
       "            \"arrows\": \"to\",\n",
       "            \"etype\": \"part-of\",\n",
       "            \"font\": {\n",
       "                \"size\": 7\n",
       "            },\n",
       "            \"from\": \"10\",\n",
       "            \"graphics\": {\n",
       "                \"fill\": \"#00ffff\",\n",
       "                \"targetArrow\": \"standard\",\n",
       "                \"width\": 3\n",
       "            },\n",
       "            \"to\": \"16\"\n",
       "        },\n",
       "        {\n",
       "            \"arrows\": \"to\",\n",
       "            \"etype\": \"part-of\",\n",
       "            \"font\": {\n",
       "                \"size\": 7\n",
       "            },\n",
       "            \"from\": \"11\",\n",
       "            \"graphics\": {\n",
       "                \"fill\": \"#00ffff\",\n",
       "                \"targetArrow\": \"standard\",\n",
       "                \"width\": 3\n",
       "            },\n",
       "            \"to\": \"1\"\n",
       "        },\n",
       "        {\n",
       "            \"arrows\": \"to\",\n",
       "            \"dashes\": \"true\",\n",
       "            \"etype\": \"scale\",\n",
       "            \"font\": {\n",
       "                \"size\": 7\n",
       "            },\n",
       "            \"from\": \"11\",\n",
       "            \"graphics\": {\n",
       "                \"fill\": \"#00ffff\",\n",
       "                \"targetArrow\": \"standard\",\n",
       "                \"width\": 2\n",
       "            },\n",
       "            \"label\": \"wheat x 0.6 > wheat\",\n",
       "            \"to\": \"3\",\n",
       "            \"w\": \"0.6\"\n",
       "        },\n",
       "        {\n",
       "            \"arrows\": \"to\",\n",
       "            \"dashes\": \"true\",\n",
       "            \"etype\": \"scale\",\n",
       "            \"font\": {\n",
       "                \"size\": 7\n",
       "            },\n",
       "            \"from\": \"11\",\n",
       "            \"graphics\": {\n",
       "                \"fill\": \"#00ffff\",\n",
       "                \"targetArrow\": \"standard\",\n",
       "                \"width\": 2\n",
       "            },\n",
       "            \"label\": \"wheat x 0.4 > wheat\",\n",
       "            \"to\": \"8\",\n",
       "            \"w\": \"0.4\"\n",
       "        },\n",
       "        {\n",
       "            \"arrows\": \"to\",\n",
       "            \"etype\": \"part-of\",\n",
       "            \"font\": {\n",
       "                \"size\": 7\n",
       "            },\n",
       "            \"from\": \"13\",\n",
       "            \"graphics\": {\n",
       "                \"fill\": \"#00ffff\",\n",
       "                \"targetArrow\": \"standard\",\n",
       "                \"width\": 3\n",
       "            },\n",
       "            \"to\": \"7\"\n",
       "        },\n",
       "        {\n",
       "            \"arrows\": \"to\",\n",
       "            \"etype\": \"part-of\",\n",
       "            \"font\": {\n",
       "                \"size\": 7\n",
       "            },\n",
       "            \"from\": \"14\",\n",
       "            \"graphics\": {\n",
       "                \"fill\": \"#00ffff\",\n",
       "                \"targetArrow\": \"standard\",\n",
       "                \"width\": 3\n",
       "            },\n",
       "            \"to\": \"16\"\n",
       "        },\n",
       "        {\n",
       "            \"arrows\": \"to\",\n",
       "            \"etype\": \"part-of\",\n",
       "            \"font\": {\n",
       "                \"size\": 7\n",
       "            },\n",
       "            \"from\": \"16\",\n",
       "            \"graphics\": {\n",
       "                \"fill\": \"#00ffff\",\n",
       "                \"targetArrow\": \"standard\",\n",
       "                \"width\": 3\n",
       "            },\n",
       "            \"to\": \"7\"\n",
       "        },\n",
       "        {\n",
       "            \"arrows\": \"to\",\n",
       "            \"dashes\": \"true\",\n",
       "            \"etype\": \"scale\",\n",
       "            \"font\": {\n",
       "                \"size\": 7\n",
       "            },\n",
       "            \"from\": \"16\",\n",
       "            \"graphics\": {\n",
       "                \"fill\": \"#00ffff\",\n",
       "                \"targetArrow\": \"standard\",\n",
       "                \"width\": 2\n",
       "            },\n",
       "            \"label\": \"wheat x 0.3 > wheat\",\n",
       "            \"to\": \"14\",\n",
       "            \"w\": \"0.3\"\n",
       "        },\n",
       "        {\n",
       "            \"arrows\": \"to\",\n",
       "            \"dashes\": \"true\",\n",
       "            \"etype\": \"scale\",\n",
       "            \"font\": {\n",
       "                \"size\": 7\n",
       "            },\n",
       "            \"from\": \"16\",\n",
       "            \"graphics\": {\n",
       "                \"fill\": \"#00ffff\",\n",
       "                \"targetArrow\": \"standard\",\n",
       "                \"width\": 2\n",
       "            },\n",
       "            \"label\": \"wheat x 0.7 > wheat\",\n",
       "            \"to\": \"10\",\n",
       "            \"w\": \"0.7\"\n",
       "        },\n",
       "        {\n",
       "            \"arrows\": \"to\",\n",
       "            \"etype\": \"part-of\",\n",
       "            \"font\": {\n",
       "                \"size\": 7\n",
       "            },\n",
       "            \"from\": \"17\",\n",
       "            \"graphics\": {\n",
       "                \"fill\": \"#00ffff\",\n",
       "                \"targetArrow\": \"standard\",\n",
       "                \"width\": 3\n",
       "            },\n",
       "            \"to\": \"1\"\n",
       "        }\n",
       "    ],\n",
       "    \"nodes\": [\n",
       "        {\n",
       "            \"color\": \"#552211\",\n",
       "            \"id\": \"0\",\n",
       "            \"label\": \"open_air\",\n",
       "            \"shape\": \"hexagon\"\n",
       "        },\n",
       "        {\n",
       "            \"color\": \"#aa2211\",\n",
       "            \"id\": \"1\",\n",
       "            \"label\": \"Spain\",\n",
       "            \"shape\": \"hexagon\"\n",
       "        },\n",
       "        {\n",
       "            \"color\": \"#552211\",\n",
       "            \"id\": \"2\",\n",
       "            \"label\": \"process2\",\n",
       "            \"shape\": \"hexagon\"\n",
       "        },\n",
       "        {\n",
       "            \"color\": \"#aa2211\",\n",
       "            \"id\": \"3\",\n",
       "            \"label\": \"Spain.crop_production.Spain_open_air\",\n",
       "            \"shape\": \"hexagon\"\n",
       "        },\n",
       "        {\n",
       "            \"color\": \"#552211\",\n",
       "            \"id\": \"4\",\n",
       "            \"label\": \"process1\",\n",
       "            \"shape\": \"hexagon\"\n",
       "        },\n",
       "        {\n",
       "            \"color\": \"#aa2211\",\n",
       "            \"id\": \"5\",\n",
       "            \"label\": \"France.Franceprocess1\",\n",
       "            \"shape\": \"hexagon\"\n",
       "        },\n",
       "        {\n",
       "            \"color\": \"#aa2211\",\n",
       "            \"id\": \"6\",\n",
       "            \"label\": \"SP_Local\",\n",
       "            \"shape\": \"hexagon\"\n",
       "        },\n",
       "        {\n",
       "            \"color\": \"#aa2211\",\n",
       "            \"id\": \"7\",\n",
       "            \"label\": \"France\",\n",
       "            \"shape\": \"hexagon\"\n",
       "        },\n",
       "        {\n",
       "            \"color\": \"#aa2211\",\n",
       "            \"id\": \"8\",\n",
       "            \"label\": \"Spain.crop_production.Spain_green_house\",\n",
       "            \"shape\": \"hexagon\"\n",
       "        },\n",
       "        {\n",
       "            \"color\": \"#aa2211\",\n",
       "            \"id\": \"9\",\n",
       "            \"label\": \"Spain.Spainprocess2\",\n",
       "            \"shape\": \"hexagon\"\n",
       "        },\n",
       "        {\n",
       "            \"color\": \"#aa2211\",\n",
       "            \"id\": \"10\",\n",
       "            \"label\": \"France.crop_production.France_green_house\",\n",
       "            \"shape\": \"hexagon\"\n",
       "        },\n",
       "        {\n",
       "            \"color\": \"#aa2211\",\n",
       "            \"id\": \"11\",\n",
       "            \"label\": \"Spain.crop_production\",\n",
       "            \"shape\": \"hexagon\"\n",
       "        },\n",
       "        {\n",
       "            \"color\": \"#552211\",\n",
       "            \"id\": \"12\",\n",
       "            \"label\": \"green_house\",\n",
       "            \"shape\": \"hexagon\"\n",
       "        },\n",
       "        {\n",
       "            \"color\": \"#aa2211\",\n",
       "            \"id\": \"13\",\n",
       "            \"label\": \"France.Franceprocess2\",\n",
       "            \"shape\": \"hexagon\"\n",
       "        },\n",
       "        {\n",
       "            \"color\": \"#aa2211\",\n",
       "            \"id\": \"14\",\n",
       "            \"label\": \"France.crop_production.France_open_air\",\n",
       "            \"shape\": \"hexagon\"\n",
       "        },\n",
       "        {\n",
       "            \"color\": \"#aa2211\",\n",
       "            \"id\": \"15\",\n",
       "            \"label\": \"SP_Environment\",\n",
       "            \"shape\": \"hexagon\"\n",
       "        },\n",
       "        {\n",
       "            \"color\": \"#aa2211\",\n",
       "            \"id\": \"16\",\n",
       "            \"label\": \"France.crop_production\",\n",
       "            \"shape\": \"hexagon\"\n",
       "        },\n",
       "        {\n",
       "            \"color\": \"#aa2211\",\n",
       "            \"id\": \"17\",\n",
       "            \"label\": \"Spain.Spainprocess1\",\n",
       "            \"shape\": \"hexagon\"\n",
       "        }\n",
       "    ]\n",
       "};\n",
       "  var options = {};\n",
       "  var network = new vis.Network(container, data, options);   \n",
       "}\n",
       "\n",
       "loadScript(\"visjs_script\", \"https://cdnjs.cloudflare.com/ajax/libs/vis/4.21.0/vis.min.js\", loadNetwork);\n"
      ],
      "text/plain": [
       "<IPython.core.display.Javascript object>"
      ]
     },
     "metadata": {},
     "output_type": "display_data"
    }
   ],
   "source": [
    "#Processors\n",
    "display_visjs(processors_graph)"
   ]
  },
  {
   "cell_type": "code",
   "execution_count": 20,
   "metadata": {},
   "outputs": [
    {
     "data": {
      "text/html": [
       "\n",
       "<script type=\"text/javascript\" src=\"https://cdnjs.cloudflare.com/ajax/libs/vis/4.21.0/vis.min.js\"></script>\n",
       "<link href=\"https://cdnjs.cloudflare.com/ajax/libs/vis/4.21.0/vis.min.css\" rel=\"stylesheet\" type=\"text/css\" />\n",
       "\n",
       "  <style type=\"text/css\">\n",
       "    #network9R413BQ52F {\n",
       "      width: 100%;\n",
       "      height: 1200px;\n",
       "      border: 1px solid lightgray;\n",
       "    }\n",
       "  </style>\n",
       "<div id=\"network9R413BQ52F\"></div>    \n",
       "    "
      ],
      "text/plain": [
       "<IPython.core.display.HTML object>"
      ]
     },
     "metadata": {},
     "output_type": "display_data"
    },
    {
     "data": {
      "application/javascript": [
       "\n",
       "function loadScript(ide, url, callback)\n",
       "{\n",
       "    var script = document.getElementById(ide);\n",
       "    if (!script)\n",
       "    {\n",
       "        // Adding the script tag to the head as suggested before\n",
       "        var script = document.createElement('script');\n",
       "        script.type = 'text/javascript';\n",
       "        script.src = url;\n",
       "        script.id = ide;\n",
       "\n",
       "        // Then bind the event to the callback function.\n",
       "        // There are several events for cross browser compatibility.\n",
       "        script.onreadystatechange = callback;\n",
       "        script.onload = callback;\n",
       "        \n",
       "        // Fire the loading\n",
       "        var head = document.head;\n",
       "        head.appendChild(script);\n",
       "    } else {\n",
       "        callback();\n",
       "    }\n",
       "}\n",
       "\n",
       "function loadNetwork() {    \n",
       "  // create a network\n",
       "  var container = document.getElementById('network9R413BQ52F');\n",
       "  var data = {'nodes': [{'id': '0', 'label': 'france.crop_production:wheat', 'shape': 'box'}, {'id': '1', 'label': 'france.crop_production:wheat 100', 'shape': 'box'}, {'id': '2', 'label': 'process2:ha', 'shape': 'box'}, {'id': '3', 'label': 'sp_local:lu', 'shape': 'box'}, {'id': '4', 'label': 'sp_local:ha', 'shape': 'box'}, {'id': '5', 'label': 'green_house:lu', 'shape': 'box'}, {'id': '6', 'label': 'open_air:ha', 'shape': 'box'}, {'id': '7', 'label': 'spain.spainprocess2:biofuel', 'shape': 'box'}, {'id': '8', 'label': 'green_house:ha', 'shape': 'box'}, {'id': '9', 'label': 'spain.crop_production.spain_open_air:ha', 'shape': 'box'}, {'id': '10', 'label': 'france.crop_production.france_green_house:wheat', 'shape': 'box'}, {'id': '11', 'label': 'france.crop_production.france_open_air:ha', 'shape': 'box'}, {'id': '12', 'label': 'spain.spainprocess2:emission', 'shape': 'box'}, {'id': '13', 'label': 'spain.spainprocess2:lu', 'shape': 'box'}, {'id': '14', 'label': 'process2:lu', 'shape': 'box'}, {'id': '15', 'label': 'france.crop_production.france_green_house:ha', 'shape': 'box'}, {'id': '16', 'label': 'process1:lu', 'shape': 'box'}, {'id': '17', 'label': 'spain.spainprocess2:ethanol', 'shape': 'box'}, {'id': '18', 'label': 'process1:ha', 'shape': 'box'}, {'id': '19', 'label': 'spain.spainprocess2:energy', 'shape': 'box'}, {'id': '20', 'label': 'open_air:lu', 'shape': 'box'}, {'id': '21', 'label': 'spain.spainprocess1:ha', 'shape': 'box'}, {'id': '22', 'label': 'sp_local:energy', 'shape': 'box'}, {'id': '23', 'label': 'france.franceprocess2:ethanol', 'shape': 'box'}, {'id': '24', 'label': 'sp_local:wheat', 'shape': 'box'}, {'id': '25', 'label': 'spain.crop_production.spain_open_air:lu', 'shape': 'box'}, {'id': '26', 'label': 'france.franceprocess2:emission', 'shape': 'box'}, {'id': '27', 'label': 'spain.spainprocess1:ethanol', 'shape': 'box'}, {'id': '28', 'label': 'spain.crop_production.spain_green_house:lu', 'shape': 'box'}, {'id': '29', 'label': 'france.franceprocess2:energy', 'shape': 'box'}, {'id': '30', 'label': 'france.franceprocess2:biofuel', 'shape': 'box'}, {'id': '31', 'label': 'france.crop_production.france_open_air:lu', 'shape': 'box'}, {'id': '32', 'label': 'france.franceprocess1:ethanol', 'shape': 'box'}, {'id': '33', 'label': 'sp_environment:emission', 'shape': 'box'}, {'id': '34', 'label': 'spain.spainprocess2:ha', 'shape': 'box'}, {'id': '35', 'label': 'france.franceprocess2:lu', 'shape': 'box'}, {'id': '36', 'label': 'spain.spainprocess1:lu', 'shape': 'box'}, {'id': '37', 'label': 'france.franceprocess1:energy', 'shape': 'box'}, {'id': '38', 'label': 'france.crop_production.france_green_house:emission', 'shape': 'box'}, {'id': '39', 'label': 'spain.crop_production.spain_green_house:energy', 'shape': 'box'}, {'id': '40', 'label': 'france.crop_production.france_green_house:energy', 'shape': 'box'}, {'id': '41', 'label': 'spain.crop_production.spain_green_house:wheat', 'shape': 'box'}, {'id': '42', 'label': 'france.crop_production.france_green_house:lu', 'shape': 'box'}, {'id': '43', 'label': 'spain.crop_production.spain_open_air:emission', 'shape': 'box'}, {'id': '44', 'label': 'spain.crop_production.spain_green_house:emission', 'shape': 'box'}, {'id': '45', 'label': 'france.franceprocess2:ha', 'shape': 'box'}, {'id': '46', 'label': 'spain.crop_production.spain_green_house:ha', 'shape': 'box'}, {'id': '47', 'label': 'france.franceprocess1:emission', 'shape': 'box'}, {'id': '48', 'label': 'france.crop_production.france_open_air:energy', 'shape': 'box'}, {'id': '49', 'label': 'france.franceprocess1:ha', 'shape': 'box'}, {'id': '50', 'label': 'france.franceprocess1:wheat', 'shape': 'box'}, {'id': '51', 'label': 'france.crop_production.france_open_air:emission', 'shape': 'box'}, {'id': '52', 'label': 'france.franceprocess1:lu', 'shape': 'box'}, {'id': '53', 'label': 'sp_local:biofuel', 'shape': 'box'}, {'id': '54', 'label': 'green_house:energy', 'shape': 'box'}, {'id': '55', 'label': 'green_house:wheat', 'shape': 'box'}, {'id': '56', 'label': 'spain.spainprocess1:emission', 'shape': 'box'}, {'id': '57', 'label': 'france.crop_production.france_open_air:wheat', 'shape': 'box'}, {'id': '58', 'label': 'green_house:emission', 'shape': 'box'}, {'id': '59', 'label': 'spain.crop_production:wheat', 'shape': 'box'}, {'id': '60', 'label': 'spain.crop_production:wheat 100', 'shape': 'box'}, {'id': '61', 'label': 'process1:wheat', 'shape': 'box'}, {'id': '62', 'label': 'spain.crop_production.spain_open_air:wheat', 'shape': 'box'}, {'id': '63', 'label': 'process1:emission', 'shape': 'box'}, {'id': '64', 'label': 'open_air:emission', 'shape': 'box'}, {'id': '65', 'label': 'spain.crop_production.spain_open_air:energy', 'shape': 'box'}, {'id': '66', 'label': 'open_air:wheat', 'shape': 'box'}, {'id': '67', 'label': 'process2:ethanol', 'shape': 'box'}, {'id': '68', 'label': 'process1:ethanol', 'shape': 'box'}, {'id': '69', 'label': 'open_air:energy', 'shape': 'box'}, {'id': '70', 'label': 'spain.spainprocess1:wheat', 'shape': 'box'}, {'id': '71', 'label': 'spain.spainprocess1:energy', 'shape': 'box'}, {'id': '72', 'label': 'process1:energy', 'shape': 'box'}, {'id': '73', 'label': 'process2:energy', 'shape': 'box'}, {'id': '74', 'label': 'process2:emission', 'shape': 'box'}, {'id': '75', 'label': 'process2:biofuel', 'shape': 'box'}], 'edges': [{'from': '0', 'to': '50', 'arrows': 'to', 'label': '1', 'font': {'align': 'horizontal'}}, {'from': '0', 'to': '57', 'arrows': 'to', 'label': '0.3', 'font': {'align': 'horizontal'}}, {'from': '0', 'to': '10', 'arrows': 'to', 'label': '0.7', 'font': {'align': 'horizontal'}}, {'from': '1', 'to': '0', 'arrows': 'to', 'label': '', 'font': {'align': 'horizontal'}}, {'from': '3', 'to': '35', 'arrows': 'to', 'label': '1', 'font': {'align': 'horizontal'}}, {'from': '3', 'to': '52', 'arrows': 'to', 'label': '1', 'font': {'align': 'horizontal'}}, {'from': '3', 'to': '42', 'arrows': 'to', 'label': '1', 'font': {'align': 'horizontal'}}, {'from': '3', 'to': '31', 'arrows': 'to', 'label': '1', 'font': {'align': 'horizontal'}}, {'from': '4', 'to': '49', 'arrows': 'to', 'label': '1', 'font': {'align': 'horizontal'}}, {'from': '4', 'to': '11', 'arrows': 'to', 'label': '1', 'font': {'align': 'horizontal'}}, {'from': '4', 'to': '45', 'arrows': 'to', 'label': '1', 'font': {'align': 'horizontal'}}, {'from': '4', 'to': '15', 'arrows': 'to', 'label': '1', 'font': {'align': 'horizontal'}}, {'from': '10', 'to': '24', 'arrows': 'to', 'label': '1', 'font': {'align': 'horizontal'}}, {'from': '12', 'to': '33', 'arrows': 'to', 'label': '1', 'font': {'align': 'horizontal'}}, {'from': '22', 'to': '37', 'arrows': 'to', 'label': '1', 'font': {'align': 'horizontal'}}, {'from': '22', 'to': '29', 'arrows': 'to', 'label': '1', 'font': {'align': 'horizontal'}}, {'from': '22', 'to': '40', 'arrows': 'to', 'label': '1', 'font': {'align': 'horizontal'}}, {'from': '22', 'to': '48', 'arrows': 'to', 'label': '1', 'font': {'align': 'horizontal'}}, {'from': '26', 'to': '33', 'arrows': 'to', 'label': '1', 'font': {'align': 'horizontal'}}, {'from': '27', 'to': '17', 'arrows': 'to', 'label': '1', 'font': {'align': 'horizontal'}}, {'from': '30', 'to': '53', 'arrows': 'to', 'label': '1', 'font': {'align': 'horizontal'}}, {'from': '32', 'to': '23', 'arrows': 'to', 'label': '1', 'font': {'align': 'horizontal'}}, {'from': '38', 'to': '33', 'arrows': 'to', 'label': '1', 'font': {'align': 'horizontal'}}, {'from': '43', 'to': '33', 'arrows': 'to', 'label': '1', 'font': {'align': 'horizontal'}}, {'from': '44', 'to': '33', 'arrows': 'to', 'label': '1', 'font': {'align': 'horizontal'}}, {'from': '47', 'to': '33', 'arrows': 'to', 'label': '1', 'font': {'align': 'horizontal'}}, {'from': '51', 'to': '33', 'arrows': 'to', 'label': '1', 'font': {'align': 'horizontal'}}, {'from': '56', 'to': '33', 'arrows': 'to', 'label': '1', 'font': {'align': 'horizontal'}}, {'from': '57', 'to': '24', 'arrows': 'to', 'label': '1', 'font': {'align': 'horizontal'}}, {'from': '59', 'to': '70', 'arrows': 'to', 'label': '1', 'font': {'align': 'horizontal'}}, {'from': '59', 'to': '62', 'arrows': 'to', 'label': '0.6', 'font': {'align': 'horizontal'}}, {'from': '59', 'to': '41', 'arrows': 'to', 'label': '0.4', 'font': {'align': 'horizontal'}}, {'from': '60', 'to': '59', 'arrows': 'to', 'label': '', 'font': {'align': 'horizontal'}}]};\n",
       "  var options = {};\n",
       "  var network = new vis.Network(container, data, options);   \n",
       "}\n",
       "\n",
       "loadScript(\"visjs_script\", \"https://cdnjs.cloudflare.com/ajax/libs/vis/4.21.0/vis.min.js\", loadNetwork);\n"
      ],
      "text/plain": [
       "<IPython.core.display.Javascript object>"
      ]
     },
     "metadata": {},
     "output_type": "display_data"
    }
   ],
   "source": [
    "#Interfaces\n",
    "display_visjs(interfaces_graph)"
   ]
  },
  {
   "cell_type": "markdown",
   "metadata": {},
   "source": [
    "## Exploring Flow Graph Solution"
   ]
  },
  {
   "cell_type": "code",
   "execution_count": 21,
   "metadata": {},
   "outputs": [],
   "source": [
    "FGSds = pd.read_csv(\"flow_graph_solution.csv\")"
   ]
  },
  {
   "cell_type": "code",
   "execution_count": 22,
   "metadata": {},
   "outputs": [
    {
     "name": "stderr",
     "output_type": "stream",
     "text": [
      "Enabling notebook extension qgrid/extension...\n",
      "      - Validating: \u001b[32mOK\u001b[0m\n"
     ]
    }
   ],
   "source": [
    "%%bash\n",
    "jupyter nbextension enable --py --sys-prefix qgrid"
   ]
  },
  {
   "cell_type": "code",
   "execution_count": 23,
   "metadata": {},
   "outputs": [
    {
     "data": {
      "application/vnd.jupyter.widget-view+json": {
       "model_id": "9acecaf9e83c41df9ba5195e6134c7a8",
       "version_major": 2,
       "version_minor": 0
      },
      "text/plain": [
       "QgridWidget(grid_options={'fullWidthRows': True, 'syncColumnCellResize': True, 'forceFitColumns': True, 'defau…"
      ]
     },
     "metadata": {},
     "output_type": "display_data"
    }
   ],
   "source": [
    "qgrid_widget = qgrid.show_grid(FGSds,show_toolbar= True)\n",
    "qgrid_widget"
   ]
  },
  {
   "cell_type": "markdown",
   "metadata": {},
   "source": [
    "### Data Clonflict"
   ]
  },
  {
   "cell_type": "code",
   "execution_count": 24,
   "metadata": {},
   "outputs": [],
   "source": [
    "def ConflictStudy(df,conflictType): \n",
    "    if any(df[conflictType] =='Dismissed'):\n",
    "        df = df.drop(columns=['Expression','Computed','Observer'])\n",
    "        Taken = df[df[conflictType]=='Taken'].drop([conflictType], axis= 1)\n",
    "        Dismissed = df[df[conflictType]=='Dismissed'].drop([conflictType], axis= 1)\n",
    "        Taken = Taken.rename(columns={'Value':'Value_Taken'})\n",
    "        Dismissed = Dismissed.rename(columns={'Value':'Value_Dismissed'})\n",
    "        Conflict = pd.merge(Taken,Dismissed, how = 'outer')\n",
    "        Conflict['diff'] = Conflict['Value_Taken'] - Conflict['Value_Dismissed']\n",
    "        return Conflict\n",
    "    else:\n",
    "        print('No Conflicts found')"
   ]
  },
  {
   "cell_type": "markdown",
   "metadata": {},
   "source": [
    "#### Part Of Conflict"
   ]
  },
  {
   "cell_type": "code",
   "execution_count": 25,
   "metadata": {},
   "outputs": [
    {
     "name": "stdout",
     "output_type": "stream",
     "text": [
      "No Conflicts found\n"
     ]
    }
   ],
   "source": [
    "ConflictItype = ConflictStudy(FGSds,'Conflict_Itype')"
   ]
  },
  {
   "cell_type": "code",
   "execution_count": 26,
   "metadata": {},
   "outputs": [
    {
     "data": {
      "text/html": [
       "<div>\n",
       "<style scoped>\n",
       "    .dataframe tbody tr th:only-of-type {\n",
       "        vertical-align: middle;\n",
       "    }\n",
       "\n",
       "    .dataframe tbody tr th {\n",
       "        vertical-align: top;\n",
       "    }\n",
       "\n",
       "    .dataframe thead th {\n",
       "        text-align: right;\n",
       "    }\n",
       "</style>\n",
       "<table border=\"1\" class=\"dataframe\">\n",
       "  <thead>\n",
       "    <tr style=\"text-align: right;\">\n",
       "      <th></th>\n",
       "      <th>Scenario</th>\n",
       "      <th>Period</th>\n",
       "      <th>Scope</th>\n",
       "      <th>Conflict_Itype</th>\n",
       "      <th>Processor</th>\n",
       "      <th>Interface</th>\n",
       "      <th>Orientation</th>\n",
       "      <th>RoegenType</th>\n",
       "      <th>Value_Taken</th>\n",
       "      <th>Unit</th>\n",
       "      <th>Level</th>\n",
       "      <th>System</th>\n",
       "      <th>Subsystem</th>\n",
       "      <th>Sphere</th>\n",
       "      <th>Value_Dismissed</th>\n",
       "      <th>diff</th>\n",
       "    </tr>\n",
       "  </thead>\n",
       "  <tbody>\n",
       "    <tr>\n",
       "      <th>0</th>\n",
       "      <td>default</td>\n",
       "      <td>2020</td>\n",
       "      <td>External</td>\n",
       "      <td>No</td>\n",
       "      <td>France.crop_production</td>\n",
       "      <td>wheat</td>\n",
       "      <td>Output</td>\n",
       "      <td>Flow</td>\n",
       "      <td>100.0</td>\n",
       "      <td>tonnes</td>\n",
       "      <td>n-1</td>\n",
       "      <td>SP</td>\n",
       "      <td>External</td>\n",
       "      <td>Technosphere</td>\n",
       "      <td>100.0</td>\n",
       "      <td>0.0</td>\n",
       "    </tr>\n",
       "    <tr>\n",
       "      <th>1</th>\n",
       "      <td>default</td>\n",
       "      <td>2020</td>\n",
       "      <td>Internal</td>\n",
       "      <td>No</td>\n",
       "      <td>Spain.crop_production</td>\n",
       "      <td>wheat</td>\n",
       "      <td>Output</td>\n",
       "      <td>Flow</td>\n",
       "      <td>100.0</td>\n",
       "      <td>tonnes</td>\n",
       "      <td>n-1</td>\n",
       "      <td>SP</td>\n",
       "      <td>Local</td>\n",
       "      <td>Technosphere</td>\n",
       "      <td>100.0</td>\n",
       "      <td>0.0</td>\n",
       "    </tr>\n",
       "    <tr>\n",
       "      <th>2</th>\n",
       "      <td>default</td>\n",
       "      <td>2020</td>\n",
       "      <td>Total</td>\n",
       "      <td>No</td>\n",
       "      <td>France.crop_production</td>\n",
       "      <td>wheat</td>\n",
       "      <td>Output</td>\n",
       "      <td>Flow</td>\n",
       "      <td>100.0</td>\n",
       "      <td>tonnes</td>\n",
       "      <td>n-1</td>\n",
       "      <td>SP</td>\n",
       "      <td>External</td>\n",
       "      <td>Technosphere</td>\n",
       "      <td>100.0</td>\n",
       "      <td>0.0</td>\n",
       "    </tr>\n",
       "    <tr>\n",
       "      <th>3</th>\n",
       "      <td>default</td>\n",
       "      <td>2020</td>\n",
       "      <td>Total</td>\n",
       "      <td>No</td>\n",
       "      <td>Spain.crop_production</td>\n",
       "      <td>wheat</td>\n",
       "      <td>Output</td>\n",
       "      <td>Flow</td>\n",
       "      <td>100.0</td>\n",
       "      <td>tonnes</td>\n",
       "      <td>n-1</td>\n",
       "      <td>SP</td>\n",
       "      <td>Local</td>\n",
       "      <td>Technosphere</td>\n",
       "      <td>100.0</td>\n",
       "      <td>0.0</td>\n",
       "    </tr>\n",
       "  </tbody>\n",
       "</table>\n",
       "</div>"
      ],
      "text/plain": [
       "  Scenario  Period     Scope Conflict_Itype               Processor Interface  \\\n",
       "0  default    2020  External             No  France.crop_production     wheat   \n",
       "1  default    2020  Internal             No   Spain.crop_production     wheat   \n",
       "2  default    2020     Total             No  France.crop_production     wheat   \n",
       "3  default    2020     Total             No   Spain.crop_production     wheat   \n",
       "\n",
       "  Orientation RoegenType  Value_Taken    Unit Level System Subsystem  \\\n",
       "0      Output       Flow        100.0  tonnes   n-1     SP  External   \n",
       "1      Output       Flow        100.0  tonnes   n-1     SP     Local   \n",
       "2      Output       Flow        100.0  tonnes   n-1     SP  External   \n",
       "3      Output       Flow        100.0  tonnes   n-1     SP     Local   \n",
       "\n",
       "         Sphere  Value_Dismissed  diff  \n",
       "0  Technosphere            100.0   0.0  \n",
       "1  Technosphere            100.0   0.0  \n",
       "2  Technosphere            100.0   0.0  \n",
       "3  Technosphere            100.0   0.0  "
      ]
     },
     "execution_count": 26,
     "metadata": {},
     "output_type": "execute_result"
    }
   ],
   "source": [
    "ConflictStudy(FGSds,'Conflict_Partof')\n"
   ]
  },
  {
   "cell_type": "markdown",
   "metadata": {},
   "source": [
    "### Flow graph solution Study"
   ]
  },
  {
   "cell_type": "markdown",
   "metadata": {},
   "source": [
    "#### Absolute Values Mode"
   ]
  },
  {
   "cell_type": "code",
   "execution_count": 108,
   "metadata": {},
   "outputs": [],
   "source": [
    "def cleanFGS(df):\n",
    "    df = df[(df['Conflict_Partof'] != 'Dissmissed')&(df['Conflict_Itype']!='Dismissed')]\n",
    "    #Simplified dataFrame for accounting exploration\n",
    "    df = df.drop(columns= ['Conflict_Partof','Conflict_Itype', 'Computed','Observer','Expression'])\n",
    "    # los observers cambian según el escenario entonces en realidad daría igual si dejarlo o no en el dataframe??\n",
    "\n",
    "    Inputs = df[df['Orientation']=='Input']\n",
    "    Outputs = df[df['Orientation'] == 'Output']\n",
    "\n",
    "    Inputs =Inputs.rename(columns= {'Value': 'Value_Input'})\n",
    "    Outputs = Outputs.rename(columns={'Value':'Value_Output'})\n",
    "\n",
    "    Inputs = Inputs.drop(columns = \"Orientation\")\n",
    "    Outputs = Outputs.drop(columns = \"Orientation\")\n",
    "\n",
    "    data = pd.merge(Inputs,Outputs, how = 'outer')\n",
    "\n",
    "    data['Value'] = abs(data['Value_Input'].fillna(0)-data['Value_Output'].fillna(0))\n",
    "    # Replace Level nan in subsystem processor for processor name ! if you have not defined processors all studies bellow will be done by processor instead of Level \n",
    "    data = data.fillna(\"\")\n",
    "    SubsystemProcessor = data[data['Level']== \"\"]['Processor']\n",
    "    data.loc[data['Level'] == \"\", 'Level'] = SubsystemProcessor\n",
    "    #Store\n",
    "    data.to_csv('flow_graph_solution_clean.csv')"
   ]
  },
  {
   "cell_type": "code",
   "execution_count": 109,
   "metadata": {},
   "outputs": [],
   "source": [
    "cleanFGS(FGSds)"
   ]
  },
  {
   "cell_type": "code",
   "execution_count": 110,
   "metadata": {},
   "outputs": [],
   "source": [
    "FGSds2 = pd.read_csv('flow_graph_solution_clean.csv')"
   ]
  },
  {
   "cell_type": "code",
   "execution_count": 111,
   "metadata": {},
   "outputs": [
    {
     "data": {
      "application/vnd.jupyter.widget-view+json": {
       "model_id": "91ffa05bed974e779df66c0c78ffecc3",
       "version_major": 2,
       "version_minor": 0
      },
      "text/plain": [
       "QgridWidget(grid_options={'fullWidthRows': True, 'syncColumnCellResize': True, 'forceFitColumns': True, 'defau…"
      ]
     },
     "metadata": {},
     "output_type": "display_data"
    }
   ],
   "source": [
    "# Ver porqué no me funciona esto\n",
    "qgrid_widget = qgrid.show_grid(FGSds2,show_toolbar= True)\n",
    "qgrid_widget"
   ]
  },
  {
   "cell_type": "markdown",
   "metadata": {},
   "source": [
    "Dar la opción de ver input y output o de verlo en total en la gráfica de barras poner el input como +y aoutput como negativo?"
   ]
  },
  {
   "cell_type": "markdown",
   "metadata": {},
   "source": [
    "### BarChart by Level"
   ]
  },
  {
   "cell_type": "code",
   "execution_count": 127,
   "metadata": {},
   "outputs": [
    {
     "data": {
      "application/vnd.jupyter.widget-view+json": {
       "model_id": "cd377df844694dd6bb1d1a9e93b860bf",
       "version_major": 2,
       "version_minor": 0
      },
      "text/plain": [
       "interactive(children=(Dropdown(description='Level', options=('n-2', 'SP_Environment', 'n-1', 'SP_Local', 'n'),…"
      ]
     },
     "metadata": {},
     "output_type": "display_data"
    },
    {
     "data": {
      "application/vnd.jupyter.widget-view+json": {
       "model_id": "b777d363e26642dab82c2b3992463abb",
       "version_major": 2,
       "version_minor": 0
      },
      "text/plain": [
       "VBox(children=(FigureWidget({\n",
       "    'data': [], 'layout': {'template': '...'}\n",
       "}),), layout=Layout(border='solid …"
      ]
     },
     "metadata": {},
     "output_type": "display_data"
    }
   ],
   "source": [
    "fig = go.FigureWidget( layout=go.Layout())\n",
    "@interact\n",
    "def Bar_chart_Level(Level = list(set(FGSds2['Level'])),Scenario = list(set(FGSds2['Scenario'])),Period = list(set(FGSds2['Period'])),Scope = list(set(FGSds2['Scope'])),Interface = list(set(FGSds2['Interface']))):\n",
    "    data = pd.read_csv(\"flow_graph_solution_clean.csv\")\n",
    "    data = data[(data['Scenario'] == Scenario)&(data['Level'] == Level)&(data['Period'] == Period)&(data['Scope'] == Scope)&( data['Interface'] == Interface)]    \n",
    "    y_pos =np.arange(len(data.Processor))\n",
    "    plt.bar(y_pos,data['Value'])\n",
    "    plt.xticks(y_pos,data.Processor, rotation = 90)\n",
    "    plt.show()\n",
    "\n",
    "ipywLayout = widgets.Layout(border='solid 2px green')\n",
    "ipywLayout.display='none'\n",
    "widgets.VBox([fig], layout=ipywLayout)   \n"
   ]
  },
  {
   "cell_type": "code",
   "execution_count": 121,
   "metadata": {},
   "outputs": [
    {
     "data": {
      "application/vnd.jupyter.widget-view+json": {
       "model_id": "ef8d07b553504bffa05ffaa20a4790fb",
       "version_major": 2,
       "version_minor": 0
      },
      "text/plain": [
       "interactive(children=(Dropdown(description='Scope', options=('Internal', 'External', 'Total'), value='Internal…"
      ]
     },
     "metadata": {},
     "output_type": "display_data"
    }
   ],
   "source": [
    "\n",
    "fig = go.FigureWidget( layout=go.Layout())\n",
    "@interact\n",
    "def Bar_chart_scenario(Scope = list(set(FGSds2['Scope'])),\n",
    "    Interface = list(set(FGSds2['Interface'])),\n",
    "    Processor = list(set(FGSds2['Processor'])),\n",
    "    Period = list(set(FGSds2['Period']))):\n",
    "    \n",
    "    data = pd.read_csv(\"flow_graph_solution_clean.csv\")\n",
    "    data = data[(data['Processor'] == Processor)&(data['Period'] == Period)&(data['Scope'] == Scope)&(data['Interface'] == Interface)]    \n",
    "    y_pos =np.arange(len(data.Scenario))\n",
    "    plt.bar(y_pos,data.Value)\n",
    "    plt.xticks(y_pos,data.Scenario, rotation = 90)\n",
    "    plt.show()"
   ]
  },
  {
   "cell_type": "code",
   "execution_count": 122,
   "metadata": {
    "scrolled": true
   },
   "outputs": [
    {
     "data": {
      "application/vnd.jupyter.widget-view+json": {
       "model_id": "c21228ee8c504915869955f4d4f3d700",
       "version_major": 2,
       "version_minor": 0
      },
      "text/plain": [
       "interactive(children=(Dropdown(description='Scope', options=('Internal', 'External', 'Total'), value='Internal…"
      ]
     },
     "metadata": {},
     "output_type": "display_data"
    }
   ],
   "source": [
    "fig = go.FigureWidget( layout=go.Layout())\n",
    "@interact\n",
    "def Time_Interface(Scope = list(set(FGSds2['Scope'])),\n",
    "          Interface = list(set(FGSds2['Interface'])),\n",
    "          Scenario = list(set(FGSds2['Scenario'])),\n",
    "          Level = list(set(FGSds2['Level']))):\n",
    "    data = pd.read_csv(\"flow_graph_solution_clean.csv\")\n",
    "    data = data[(data['Level'] == Level)&(data['Scope'] == Scope)&(data['Interface'] == Interface)&(data['Scenario']== Scenario)]  \n",
    "    Processors= list(set(data['Processor']))\n",
    "    Unit = list(set(data['Unit']))  \n",
    "    datatempspread =  data[['Processor','Value','Period']].pivot(index = 'Period',columns='Processor',values='Value')\n",
    "    datatempspread = datatempspread.reset_index()\n",
    "    fig, ax = plt.subplots()\n",
    "    for nm in Processors:\n",
    "        ax.plot(datatempspread['Period'],datatempspread[nm], label=nm)\n",
    "        # Set x-ticks to yearly interval, adjust y-axis limits, add legend and labels   \n",
    "        ax.legend()\n",
    "        ax.set_ylabel(Interface[0]+' ' + Unit[0])\n",
    "        ax.set_title(Level);\n",
    "    plt.legend(bbox_to_anchor=(1.05, 1), loc='upper left', borderaxespad=0.)\n",
    "    plt.show()"
   ]
  },
  {
   "cell_type": "code",
   "execution_count": null,
   "metadata": {},
   "outputs": [],
   "source": [
    "FGSed = pd.read_csv('flow_graph_solution_edges.csv')"
   ]
  },
  {
   "cell_type": "code",
   "execution_count": null,
   "metadata": {},
   "outputs": [],
   "source": [
    "qgrid_widget = qgrid.show_grid(FGSed,show_toolbar= True)\n",
    "qgrid_widget"
   ]
  },
  {
   "cell_type": "markdown",
   "metadata": {},
   "source": [
    "## Indicators"
   ]
  },
  {
   "cell_type": "code",
   "execution_count": 126,
   "metadata": {},
   "outputs": [
    {
     "data": {
      "application/vnd.jupyter.widget-view+json": {
       "model_id": "a55c8a96569e4d27a766f3a34f672789",
       "version_major": 2,
       "version_minor": 0
      },
      "text/plain": [
       "QgridWidget(grid_options={'fullWidthRows': True, 'syncColumnCellResize': True, 'forceFitColumns': True, 'defau…"
      ]
     },
     "metadata": {},
     "output_type": "display_data"
    }
   ],
   "source": [
    "FGSind = pd.read_csv('flow_graph_solution_indicators.csv').fillna(\"\")\n",
    "qgrid_widget = qgrid.show_grid(FGSind,show_toolbar= True)\n",
    "qgrid_widget"
   ]
  },
  {
   "cell_type": "code",
   "execution_count": null,
   "metadata": {},
   "outputs": [],
   "source": []
  }
 ],
 "metadata": {
  "kernelspec": {
   "display_name": "Python 3",
   "language": "python",
   "name": "python3"
  },
  "language_info": {
   "codemirror_mode": {
    "name": "ipython",
    "version": 3
   },
   "file_extension": ".py",
   "mimetype": "text/x-python",
   "name": "python",
   "nbconvert_exporter": "python",
   "pygments_lexer": "ipython3",
   "version": "3.7.1"
  }
 },
 "nbformat": 4,
 "nbformat_minor": 2
}
